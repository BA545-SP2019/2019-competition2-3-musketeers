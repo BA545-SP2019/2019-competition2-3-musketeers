{
 "cells": [
  {
   "cell_type": "markdown",
   "metadata": {},
   "source": [
    "## Initial EDA\n",
    "\n",
    "Here we will load in the data and first look at our target variable\n"
   ]
  },
  {
   "cell_type": "code",
   "execution_count": 1,
   "metadata": {},
   "outputs": [],
   "source": [
    "import pandas as pd\n",
    "import numpy as np\n",
    "import sklearn\n",
    "import matplotlib.pyplot as plt\n",
    "import seaborn as sns\n",
    "sns.set()\n",
    "%matplotlib inline"
   ]
  },
  {
   "cell_type": "code",
   "execution_count": 15,
   "metadata": {},
   "outputs": [
    {
     "data": {
      "text/html": [
       "<div>\n",
       "<style scoped>\n",
       "    .dataframe tbody tr th:only-of-type {\n",
       "        vertical-align: middle;\n",
       "    }\n",
       "\n",
       "    .dataframe tbody tr th {\n",
       "        vertical-align: top;\n",
       "    }\n",
       "\n",
       "    .dataframe thead th {\n",
       "        text-align: right;\n",
       "    }\n",
       "</style>\n",
       "<table border=\"1\" class=\"dataframe\">\n",
       "  <thead>\n",
       "    <tr style=\"text-align: right;\">\n",
       "      <th>ID</th>\n",
       "      <th>LIMIT_BAL</th>\n",
       "      <th>SEX</th>\n",
       "      <th>EDUCATION</th>\n",
       "      <th>MARRIAGE</th>\n",
       "      <th>AGE</th>\n",
       "      <th>PAY_0</th>\n",
       "      <th>PAY_2</th>\n",
       "      <th>PAY_3</th>\n",
       "      <th>PAY_4</th>\n",
       "      <th>PAY_5</th>\n",
       "      <th>...</th>\n",
       "      <th>BILL_AMT3</th>\n",
       "      <th>BILL_AMT4</th>\n",
       "      <th>BILL_AMT5</th>\n",
       "      <th>BILL_AMT6</th>\n",
       "      <th>PAY_AMT1</th>\n",
       "      <th>PAY_AMT2</th>\n",
       "      <th>PAY_AMT3</th>\n",
       "      <th>PAY_AMT4</th>\n",
       "      <th>PAY_AMT5</th>\n",
       "      <th>PAY_AMT6</th>\n",
       "    </tr>\n",
       "  </thead>\n",
       "  <tbody>\n",
       "    <tr>\n",
       "      <th>1</th>\n",
       "      <td>20000</td>\n",
       "      <td>2</td>\n",
       "      <td>2</td>\n",
       "      <td>1</td>\n",
       "      <td>24</td>\n",
       "      <td>2</td>\n",
       "      <td>2</td>\n",
       "      <td>-1</td>\n",
       "      <td>-1</td>\n",
       "      <td>-2</td>\n",
       "      <td>...</td>\n",
       "      <td>689</td>\n",
       "      <td>0</td>\n",
       "      <td>0</td>\n",
       "      <td>0</td>\n",
       "      <td>0</td>\n",
       "      <td>689</td>\n",
       "      <td>0</td>\n",
       "      <td>0</td>\n",
       "      <td>0</td>\n",
       "      <td>0</td>\n",
       "    </tr>\n",
       "    <tr>\n",
       "      <th>2</th>\n",
       "      <td>120000</td>\n",
       "      <td>2</td>\n",
       "      <td>2</td>\n",
       "      <td>2</td>\n",
       "      <td>26</td>\n",
       "      <td>-1</td>\n",
       "      <td>2</td>\n",
       "      <td>0</td>\n",
       "      <td>0</td>\n",
       "      <td>0</td>\n",
       "      <td>...</td>\n",
       "      <td>2682</td>\n",
       "      <td>3272</td>\n",
       "      <td>3455</td>\n",
       "      <td>3261</td>\n",
       "      <td>0</td>\n",
       "      <td>1000</td>\n",
       "      <td>1000</td>\n",
       "      <td>1000</td>\n",
       "      <td>0</td>\n",
       "      <td>2000</td>\n",
       "    </tr>\n",
       "    <tr>\n",
       "      <th>3</th>\n",
       "      <td>90000</td>\n",
       "      <td>2</td>\n",
       "      <td>2</td>\n",
       "      <td>2</td>\n",
       "      <td>34</td>\n",
       "      <td>0</td>\n",
       "      <td>0</td>\n",
       "      <td>0</td>\n",
       "      <td>0</td>\n",
       "      <td>0</td>\n",
       "      <td>...</td>\n",
       "      <td>13559</td>\n",
       "      <td>14331</td>\n",
       "      <td>14948</td>\n",
       "      <td>15549</td>\n",
       "      <td>1518</td>\n",
       "      <td>1500</td>\n",
       "      <td>1000</td>\n",
       "      <td>1000</td>\n",
       "      <td>1000</td>\n",
       "      <td>5000</td>\n",
       "    </tr>\n",
       "    <tr>\n",
       "      <th>4</th>\n",
       "      <td>50000</td>\n",
       "      <td>2</td>\n",
       "      <td>2</td>\n",
       "      <td>1</td>\n",
       "      <td>37</td>\n",
       "      <td>0</td>\n",
       "      <td>0</td>\n",
       "      <td>0</td>\n",
       "      <td>0</td>\n",
       "      <td>0</td>\n",
       "      <td>...</td>\n",
       "      <td>49291</td>\n",
       "      <td>28314</td>\n",
       "      <td>28959</td>\n",
       "      <td>29547</td>\n",
       "      <td>2000</td>\n",
       "      <td>2019</td>\n",
       "      <td>1200</td>\n",
       "      <td>1100</td>\n",
       "      <td>1069</td>\n",
       "      <td>1000</td>\n",
       "    </tr>\n",
       "    <tr>\n",
       "      <th>5</th>\n",
       "      <td>50000</td>\n",
       "      <td>1</td>\n",
       "      <td>2</td>\n",
       "      <td>1</td>\n",
       "      <td>57</td>\n",
       "      <td>-1</td>\n",
       "      <td>0</td>\n",
       "      <td>-1</td>\n",
       "      <td>0</td>\n",
       "      <td>0</td>\n",
       "      <td>...</td>\n",
       "      <td>35835</td>\n",
       "      <td>20940</td>\n",
       "      <td>19146</td>\n",
       "      <td>19131</td>\n",
       "      <td>2000</td>\n",
       "      <td>36681</td>\n",
       "      <td>10000</td>\n",
       "      <td>9000</td>\n",
       "      <td>689</td>\n",
       "      <td>679</td>\n",
       "    </tr>\n",
       "  </tbody>\n",
       "</table>\n",
       "<p>5 rows × 23 columns</p>\n",
       "</div>"
      ],
      "text/plain": [
       "ID LIMIT_BAL SEX EDUCATION MARRIAGE AGE PAY_0 PAY_2 PAY_3 PAY_4 PAY_5  \\\n",
       "1      20000   2         2        1  24     2     2    -1    -1    -2   \n",
       "2     120000   2         2        2  26    -1     2     0     0     0   \n",
       "3      90000   2         2        2  34     0     0     0     0     0   \n",
       "4      50000   2         2        1  37     0     0     0     0     0   \n",
       "5      50000   1         2        1  57    -1     0    -1     0     0   \n",
       "\n",
       "ID   ...    BILL_AMT3 BILL_AMT4 BILL_AMT5 BILL_AMT6 PAY_AMT1 PAY_AMT2  \\\n",
       "1    ...          689         0         0         0        0      689   \n",
       "2    ...         2682      3272      3455      3261        0     1000   \n",
       "3    ...        13559     14331     14948     15549     1518     1500   \n",
       "4    ...        49291     28314     28959     29547     2000     2019   \n",
       "5    ...        35835     20940     19146     19131     2000    36681   \n",
       "\n",
       "ID PAY_AMT3 PAY_AMT4 PAY_AMT5 PAY_AMT6  \n",
       "1         0        0        0        0  \n",
       "2      1000     1000        0     2000  \n",
       "3      1000     1000     1000     5000  \n",
       "4      1200     1100     1069     1000  \n",
       "5     10000     9000      689      679  \n",
       "\n",
       "[5 rows x 23 columns]"
      ]
     },
     "execution_count": 15,
     "metadata": {},
     "output_type": "execute_result"
    }
   ],
   "source": [
    "def read_data(path):\n",
    "    df = pd.read_excel(path, header=0)\n",
    "\n",
    "    df.columns = df.iloc[0,:]\n",
    "\n",
    "    df.rename(index=str, columns={\"default payment next month\": \"Y\"}, inplace=True)\n",
    "\n",
    "    y = df.Y\n",
    "\n",
    "    df.drop('ID', inplace=True, axis = 0)\n",
    "    y.drop('ID', inplace=True, axis = 0)\n",
    "    df.drop(columns = 'Y', inplace = True)\n",
    "\n",
    "    return df,  y\n",
    "\n",
    "df, y= read_data('../default_of_credit_card_clients.xls')\n",
    "df.head()"
   ]
  },
  {
   "cell_type": "code",
   "execution_count": 16,
   "metadata": {},
   "outputs": [
    {
     "data": {
      "text/plain": [
       "1    1\n",
       "2    1\n",
       "3    0\n",
       "4    0\n",
       "5    0\n",
       "Name: Y, dtype: object"
      ]
     },
     "execution_count": 16,
     "metadata": {},
     "output_type": "execute_result"
    }
   ],
   "source": [
    "y.head()"
   ]
  },
  {
   "cell_type": "code",
   "execution_count": 17,
   "metadata": {},
   "outputs": [
    {
     "name": "stdout",
     "output_type": "stream",
     "text": [
      "<class 'pandas.core.frame.DataFrame'>\n",
      "Index: 30000 entries, 1 to 30000\n",
      "Data columns (total 23 columns):\n",
      "LIMIT_BAL    30000 non-null object\n",
      "SEX          30000 non-null object\n",
      "EDUCATION    30000 non-null object\n",
      "MARRIAGE     30000 non-null object\n",
      "AGE          30000 non-null object\n",
      "PAY_0        30000 non-null object\n",
      "PAY_2        30000 non-null object\n",
      "PAY_3        30000 non-null object\n",
      "PAY_4        30000 non-null object\n",
      "PAY_5        30000 non-null object\n",
      "PAY_6        30000 non-null object\n",
      "BILL_AMT1    30000 non-null object\n",
      "BILL_AMT2    30000 non-null object\n",
      "BILL_AMT3    30000 non-null object\n",
      "BILL_AMT4    30000 non-null object\n",
      "BILL_AMT5    30000 non-null object\n",
      "BILL_AMT6    30000 non-null object\n",
      "PAY_AMT1     30000 non-null object\n",
      "PAY_AMT2     30000 non-null object\n",
      "PAY_AMT3     30000 non-null object\n",
      "PAY_AMT4     30000 non-null object\n",
      "PAY_AMT5     30000 non-null object\n",
      "PAY_AMT6     30000 non-null object\n",
      "dtypes: object(23)\n",
      "memory usage: 5.5+ MB\n"
     ]
    }
   ],
   "source": [
    "df.info()"
   ]
  },
  {
   "cell_type": "markdown",
   "metadata": {},
   "source": [
    "Since every column is an object, we'll have to convert them to a numeric type. We'll use the data dictionary from UCI Machine Learning Repository website as a preliminary data dictionary to guide us.\n",
    "\n",
    "From the UCI Machine Learning Repository website:\n",
    "\n",
    "This research employed a binary variable, default payment (Yes = 1, No = 0), as the response variable. This study reviewed the literature and used the following 23 variables as explanatory variables: \n",
    "- X1 (LIMIT_BIL): Amount of the given credit (NT dollar): it includes both the individual consumer credit and his/her family (supplementary) credit. \n",
    "- X2 (SEX): (1 = male; 2 = female). \n",
    "- X3 (EDUCATION): (1 = graduate school; 2 = university; 3 = high school; 4 = others). \n",
    "- X4 (MARITAL STATUS): (1 = married; 2 = single; 3 = others). \n",
    "- X5 (AGE): (year). \n",
    "- X6 - X11 (PAY_0 : PAY_6): History of past payment. We tracked the past monthly payment records (from April to September, 2005) as follows: X6 = the repayment status in September, 2005; X7 = the repayment status in August, 2005; . . .;X11 = the repayment status in April, 2005. The measurement scale for the repayment status is: -1 = pay duly; 1 = payment delay for one month; 2 = payment delay for two months; . . .; 8 = payment delay for eight months; 9 = payment delay for nine months and above. \n",
    "- X12-X17 (BILL_AMT1 : BILL_AMT6): Amount of bill statement (NT dollar). X12 = amount of bill statement in September, 2005; X13 = amount of bill statement in August, 2005; . . .; X17 = amount of bill statement in April, 2005. \n",
    "- X18-X23 (PAY_AMT1 : PAY_AMT6): Amount of previous payment (NT dollar). X18 = amount paid in September, 2005; X19 = amount paid in August, 2005; . . .;X23 = amount paid in April, 2005.\n",
    "- Y: Made a default payment (Yes = 1, No = 0)"
   ]
  },
  {
   "cell_type": "markdown",
   "metadata": {},
   "source": [
    "All of these columns should be columns should be numeric, so let's convert it all to numeric"
   ]
  },
  {
   "cell_type": "code",
   "execution_count": 18,
   "metadata": {},
   "outputs": [],
   "source": [
    "df = df.astype('float32')"
   ]
  },
  {
   "cell_type": "code",
   "execution_count": 19,
   "metadata": {},
   "outputs": [
    {
     "name": "stdout",
     "output_type": "stream",
     "text": [
      "<class 'pandas.core.frame.DataFrame'>\n",
      "Index: 30000 entries, 1 to 30000\n",
      "Data columns (total 23 columns):\n",
      "LIMIT_BAL    30000 non-null float32\n",
      "SEX          30000 non-null float32\n",
      "EDUCATION    30000 non-null float32\n",
      "MARRIAGE     30000 non-null float32\n",
      "AGE          30000 non-null float32\n",
      "PAY_0        30000 non-null float32\n",
      "PAY_2        30000 non-null float32\n",
      "PAY_3        30000 non-null float32\n",
      "PAY_4        30000 non-null float32\n",
      "PAY_5        30000 non-null float32\n",
      "PAY_6        30000 non-null float32\n",
      "BILL_AMT1    30000 non-null float32\n",
      "BILL_AMT2    30000 non-null float32\n",
      "BILL_AMT3    30000 non-null float32\n",
      "BILL_AMT4    30000 non-null float32\n",
      "BILL_AMT5    30000 non-null float32\n",
      "BILL_AMT6    30000 non-null float32\n",
      "PAY_AMT1     30000 non-null float32\n",
      "PAY_AMT2     30000 non-null float32\n",
      "PAY_AMT3     30000 non-null float32\n",
      "PAY_AMT4     30000 non-null float32\n",
      "PAY_AMT5     30000 non-null float32\n",
      "PAY_AMT6     30000 non-null float32\n",
      "dtypes: float32(23)\n",
      "memory usage: 2.9+ MB\n"
     ]
    }
   ],
   "source": [
    "df.info()"
   ]
  },
  {
   "cell_type": "markdown",
   "metadata": {},
   "source": [
    "## Let's look at the target variable."
   ]
  },
  {
   "cell_type": "code",
   "execution_count": 20,
   "metadata": {},
   "outputs": [
    {
     "data": {
      "text/plain": [
       "<matplotlib.axes._subplots.AxesSubplot at 0x7f353ec903c8>"
      ]
     },
     "execution_count": 20,
     "metadata": {},
     "output_type": "execute_result"
    },
    {
     "data": {
      "image/png": "[encoded data removed]",
      "text/plain": [
       "<Figure size 432x288 with 1 Axes>"
      ]
     },
     "metadata": {},
     "output_type": "display_data"
    }
   ],
   "source": [
    "y.value_counts().plot(kind='bar')"
   ]
  },
  {
   "cell_type": "markdown",
   "metadata": {},
   "source": [
    "There is some inbalance here, so we need to note to do some sort of imbalance handling later in the pipeline.\n",
    "\n",
    "Now let's look at some univariate plots to get a sense of what our features look like."
   ]
  },
  {
   "cell_type": "code",
   "execution_count": 21,
   "metadata": {},
   "outputs": [
    {
     "data": {
      "text/plain": [
       "Index(['LIMIT_BAL', 'SEX', 'EDUCATION', 'MARRIAGE', 'AGE', 'PAY_0', 'PAY_2',\n",
       "       'PAY_3', 'PAY_4', 'PAY_5', 'PAY_6', 'BILL_AMT1', 'BILL_AMT2',\n",
       "       'BILL_AMT3', 'BILL_AMT4', 'BILL_AMT5', 'BILL_AMT6', 'PAY_AMT1',\n",
       "       'PAY_AMT2', 'PAY_AMT3', 'PAY_AMT4', 'PAY_AMT5', 'PAY_AMT6'],\n",
       "      dtype='object', name='ID')"
      ]
     },
     "execution_count": 21,
     "metadata": {},
     "output_type": "execute_result"
    }
   ],
   "source": [
    "df.columns"
   ]
  },
  {
   "cell_type": "code",
   "execution_count": 22,
   "metadata": {},
   "outputs": [
    {
     "data": {
      "image/png": "[encoded data removed]",
      "text/plain": [
       "<Figure size 432x288 with 6 Axes>"
      ]
     },
     "metadata": {},
     "output_type": "display_data"
    }
   ],
   "source": [
    "#create histograms for each variable\n",
    "#we'll group some of the columns together to make plotting easier\n",
    "\n",
    "df_group1 = df.iloc[:, 0:5]\n",
    "df_group1.plot(kind='density', subplots=True, layout=(3,2), sharex=False)\n",
    "plt.show()\n",
    "\n",
    "\n",
    "#df.hist()\n",
    "#plt.show()"
   ]
  },
  {
   "cell_type": "markdown",
   "metadata": {},
   "source": [
    "Some notes: LIMIT_BAL and AGE are approaching a gaussian shape, but both are somewhat rightly skewed. Both sex and Marriage are bimodal (obviously), and Education is trimodal, with the three most common values of 1, 2, 3, and a tiny amount of 4, and 5. Besides LIMIT_BAL, nothing particular about these features. \n",
    "\n",
    "Next, we'll look at the Payment history. Since the values in these features are categorical in nature, we'll use bar plots.\n"
   ]
  },
  {
   "cell_type": "code",
   "execution_count": 54,
   "metadata": {},
   "outputs": [
    {
     "data": {
      "image/png": "[encoded data removed]",
      "text/plain": [
       "<Figure size 720x576 with 6 Axes>"
      ]
     },
     "metadata": {},
     "output_type": "display_data"
    }
   ],
   "source": [
    "#create group\n",
    "df_pay_hist = df.iloc[:,5:11]\n",
    "\n",
    "fig, ax = plt.subplots(figsize = (10,8), sharex=True)\n",
    "\n",
    "\n",
    "plt.subplot(3,2,1)\n",
    "ax1 = df['PAY_0'].value_counts().plot(kind='bar')\n",
    "ax1.set_title('PAY_0')\n",
    "\n",
    "plt.subplot(3,2,2)\n",
    "ax2 = df['PAY_2'].value_counts().plot(kind='bar')\n",
    "ax2.set_title('PAY_2')\n",
    "\n",
    "\n",
    "plt.subplot(3,2,3)\n",
    "ax3 = df['PAY_3'].value_counts().plot(kind='bar')\n",
    "ax3.set_title('PAY_3')\n",
    "\n",
    "\n",
    "plt.subplot(3,2,4)\n",
    "ax4 = df['PAY_4'].value_counts().plot(kind='bar')\n",
    "ax4.set_title('PAY_4')\n",
    "\n",
    "\n",
    "plt.subplot(3,2,5)\n",
    "ax5 = df['PAY_5'].value_counts().plot(kind='bar')\n",
    "ax5.set_title('PAY_5')\n",
    "\n",
    "\n",
    "plt.subplot(3,2,6)\n",
    "ax6 = df['PAY_6'].value_counts().plot(kind='bar')\n",
    "ax6.set_title('PAY_6')\n",
    "\n",
    "plt.tight_layout()\n",
    "\n",
    "\n"
   ]
  },
  {
   "cell_type": "markdown",
   "metadata": {},
   "source": [
    "Some notes: all the plots are pretty much the same. Values of 0 are the most common by a large amount, i.e. another instance of some class inbalance. Will have to handle as well. \n",
    "\n",
    "Next, look at the Bill amounts."
   ]
  },
  {
   "cell_type": "code",
   "execution_count": 24,
   "metadata": {},
   "outputs": [
    {
     "data": {
      "text/plain": [
       "<matplotlib.axes._subplots.AxesSubplot at 0x7f353e9e6710>"
      ]
     },
     "execution_count": 24,
     "metadata": {},
     "output_type": "execute_result"
    },
    {
     "data": {
      "image/png": "[encoded data removed]",
      "text/plain": [
       "<Figure size 432x288 with 1 Axes>"
      ]
     },
     "metadata": {},
     "output_type": "display_data"
    }
   ],
   "source": [
    "df['BILL_AMT1'].plot(kind='hist', )"
   ]
  },
  {
   "cell_type": "code",
   "execution_count": 50,
   "metadata": {},
   "outputs": [
    {
     "data": {
      "image/png": "[encoded data removed]",
      "text/plain": [
       "<Figure size 720x576 with 6 Axes>"
      ]
     },
     "metadata": {},
     "output_type": "display_data"
    }
   ],
   "source": [
    "#create bill_amnts group\n",
    "fig = plt.figure(figsize = (10,8))\n",
    "bill_amts = df.iloc[:, 11:17]\n",
    "\n",
    "\n",
    "plt.subplot(3,2,1)\n",
    "ax1 = bill_amts['BILL_AMT1'].hist(bins=25)\n",
    "ax1.set_title('BILL_AMNT1')\n",
    "\n",
    "plt.subplot(3,2,2)\n",
    "ax2 = bill_amts['BILL_AMT2'].hist(bins=25)\n",
    "ax2.set_title('BILL_AMT2')\n",
    "\n",
    "plt.subplot(3,2,3)\n",
    "ax3 = bill_amts['BILL_AMT3'].hist(bins=25)\n",
    "ax3.set_title('BILL_AMT3')\n",
    "\n",
    "plt.subplot(3,2,4)\n",
    "ax4 = bill_amts['BILL_AMT4'].hist(bins=25)\n",
    "ax4.set_title('BILL_AMT4')\n",
    "\n",
    "plt.subplot(3,2,5)\n",
    "ax5 = bill_amts['BILL_AMT5'].hist(bins=25)\n",
    "ax5.set_title('BILL_AMT5')\n",
    "\n",
    "plt.subplot(3,2,6)\n",
    "ax6 = bill_amts['BILL_AMT6'].hist(bins=25)\n",
    "ax6.set_title('BILL_AMT6')\n",
    "\n",
    "plt.tight_layout()\n",
    "\n",
    "\n",
    "\n"
   ]
  },
  {
   "cell_type": "markdown",
   "metadata": {},
   "source": [
    "Some notes: most distributions are right tailed, lending itself to a transformation. "
   ]
  },
  {
   "cell_type": "code",
   "execution_count": 26,
   "metadata": {},
   "outputs": [
    {
     "data": {
      "text/plain": [
       "<matplotlib.axes._subplots.AxesSubplot at 0x7f353a3e1240>"
      ]
     },
     "execution_count": 26,
     "metadata": {},
     "output_type": "execute_result"
    },
    {
     "data": {
      "image/png": "[encoded data removed]",
      "text/plain": [
       "<Figure size 720x576 with 6 Axes>"
      ]
     },
     "metadata": {},
     "output_type": "display_data"
    }
   ],
   "source": [
    "#create pay_amts group\n",
    "ax, fig = plt.subplots(figsize = (10,8))\n",
    "pay_amts = df.iloc[:, 17:]\n",
    "\n",
    "plt.subplot(3,2,1)\n",
    "pay_amts['PAY_AMT1'].hist(bins=25)\n",
    "\n",
    "plt.subplot(3,2,2)\n",
    "pay_amts['PAY_AMT2'].hist(bins=25)\n",
    "\n",
    "plt.subplot(3,2,3)\n",
    "pay_amts['PAY_AMT3'].hist(bins=25)\n",
    "\n",
    "plt.subplot(3,2,4)\n",
    "pay_amts['PAY_AMT4'].hist(bins=25)\n",
    "\n",
    "plt.subplot(3,2,5)\n",
    "pay_amts['PAY_AMT5'].hist(bins=25)\n",
    "\n",
    "plt.subplot(3,2,6)\n",
    "pay_amts['PAY_AMT6'].hist(bins=25)\n",
    "\n",
    "\n"
   ]
  },
  {
   "cell_type": "code",
   "execution_count": 43,
   "metadata": {},
   "outputs": [
    {
     "data": {
      "text/plain": [
       "30000    873552.0\n",
       "29999    505000.0\n",
       "29998    493358.0\n",
       "29997    423903.0\n",
       "29996    405016.0\n",
       "29995    368199.0\n",
       "29994    323014.0\n",
       "29993    304815.0\n",
       "29992    302000.0\n",
       "29991    300039.0\n",
       "29990    300000.0\n",
       "29989    298887.0\n",
       "29988    276698.0\n",
       "29987    273844.0\n",
       "29986    272817.0\n",
       "29985    261524.0\n",
       "29984    260416.0\n",
       "29983    260000.0\n",
       "29982    250000.0\n",
       "29981    247562.0\n",
       "29980    244500.0\n",
       "29979    242247.0\n",
       "29978    240101.0\n",
       "29977    239104.0\n",
       "29976    238861.0\n",
       "29975    237000.0\n",
       "29974    236533.0\n",
       "29973    235728.0\n",
       "29972    234000.0\n",
       "29971    232557.0\n",
       "           ...   \n",
       "3517          0.0\n",
       "3518          0.0\n",
       "3519          0.0\n",
       "3520          0.0\n",
       "3521          0.0\n",
       "3522          0.0\n",
       "3523          0.0\n",
       "3524          0.0\n",
       "3525          0.0\n",
       "3508          0.0\n",
       "3507          0.0\n",
       "3506          0.0\n",
       "3496          0.0\n",
       "3489          0.0\n",
       "3490          0.0\n",
       "3491          0.0\n",
       "3492          0.0\n",
       "3493          0.0\n",
       "3494          0.0\n",
       "3495          0.0\n",
       "3497          0.0\n",
       "3505          0.0\n",
       "3498          0.0\n",
       "3499          0.0\n",
       "3500          0.0\n",
       "3501          0.0\n",
       "3502          0.0\n",
       "3503          0.0\n",
       "3504          0.0\n",
       "1             0.0\n",
       "Name: PAY_AMT1, Length: 30000, dtype: float32"
      ]
     },
     "execution_count": 43,
     "metadata": {},
     "output_type": "execute_result"
    }
   ],
   "source": [
    "pay_amts['PAY_AMT1'].sort_values(ascending=False)"
   ]
  },
  {
   "cell_type": "code",
   "execution_count": null,
   "metadata": {},
   "outputs": [],
   "source": []
  }
 ],
 "metadata": {
  "kernelspec": {
   "display_name": "Python 3",
   "language": "python",
   "name": "python3"
  },
  "language_info": {
   "codemirror_mode": {
    "name": "ipython",
    "version": 3
   },
   "file_extension": ".py",
   "mimetype": "text/x-python",
   "name": "python",
   "nbconvert_exporter": "python",
   "pygments_lexer": "ipython3",
   "version": "3.6.5"
  }
 },
 "nbformat": 4,
 "nbformat_minor": 2
}
