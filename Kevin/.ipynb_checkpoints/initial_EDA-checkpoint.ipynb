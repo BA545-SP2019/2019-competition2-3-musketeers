{
 "cells": [
  {
   "cell_type": "markdown",
   "metadata": {},
   "source": [
    "## Initial EDA\n",
    "\n",
    "Here we will load in the data and first look at our target variable\n"
   ]
  },
  {
   "cell_type": "code",
   "execution_count": 1,
   "metadata": {},
   "outputs": [],
   "source": [
    "import pandas as pd\n",
    "import numpy as np\n",
    "import sklearn\n",
    "import matplotlib.pyplot as plt\n",
    "import seaborn as sns\n",
    "sns.set()\n",
    "%matplotlib inline"
   ]
  },
  {
   "cell_type": "code",
   "execution_count": 2,
   "metadata": {},
   "outputs": [
    {
     "data": {
      "text/html": [
       "<div>\n",
       "<style scoped>\n",
       "    .dataframe tbody tr th:only-of-type {\n",
       "        vertical-align: middle;\n",
       "    }\n",
       "\n",
       "    .dataframe tbody tr th {\n",
       "        vertical-align: top;\n",
       "    }\n",
       "\n",
       "    .dataframe thead th {\n",
       "        text-align: right;\n",
       "    }\n",
       "</style>\n",
       "<table border=\"1\" class=\"dataframe\">\n",
       "  <thead>\n",
       "    <tr style=\"text-align: right;\">\n",
       "      <th></th>\n",
       "      <th>1</th>\n",
       "      <th>2</th>\n",
       "      <th>3</th>\n",
       "      <th>4</th>\n",
       "      <th>5</th>\n",
       "    </tr>\n",
       "    <tr>\n",
       "      <th>ID</th>\n",
       "      <th></th>\n",
       "      <th></th>\n",
       "      <th></th>\n",
       "      <th></th>\n",
       "      <th></th>\n",
       "    </tr>\n",
       "  </thead>\n",
       "  <tbody>\n",
       "    <tr>\n",
       "      <th>LIMIT_BAL</th>\n",
       "      <td>20000</td>\n",
       "      <td>120000</td>\n",
       "      <td>90000</td>\n",
       "      <td>50000</td>\n",
       "      <td>50000</td>\n",
       "    </tr>\n",
       "    <tr>\n",
       "      <th>SEX</th>\n",
       "      <td>2</td>\n",
       "      <td>2</td>\n",
       "      <td>2</td>\n",
       "      <td>2</td>\n",
       "      <td>1</td>\n",
       "    </tr>\n",
       "    <tr>\n",
       "      <th>EDUCATION</th>\n",
       "      <td>2</td>\n",
       "      <td>2</td>\n",
       "      <td>2</td>\n",
       "      <td>2</td>\n",
       "      <td>2</td>\n",
       "    </tr>\n",
       "    <tr>\n",
       "      <th>MARRIAGE</th>\n",
       "      <td>1</td>\n",
       "      <td>2</td>\n",
       "      <td>2</td>\n",
       "      <td>1</td>\n",
       "      <td>1</td>\n",
       "    </tr>\n",
       "    <tr>\n",
       "      <th>AGE</th>\n",
       "      <td>24</td>\n",
       "      <td>26</td>\n",
       "      <td>34</td>\n",
       "      <td>37</td>\n",
       "      <td>57</td>\n",
       "    </tr>\n",
       "    <tr>\n",
       "      <th>PAY_0</th>\n",
       "      <td>2</td>\n",
       "      <td>-1</td>\n",
       "      <td>0</td>\n",
       "      <td>0</td>\n",
       "      <td>-1</td>\n",
       "    </tr>\n",
       "    <tr>\n",
       "      <th>PAY_2</th>\n",
       "      <td>2</td>\n",
       "      <td>2</td>\n",
       "      <td>0</td>\n",
       "      <td>0</td>\n",
       "      <td>0</td>\n",
       "    </tr>\n",
       "    <tr>\n",
       "      <th>PAY_3</th>\n",
       "      <td>-1</td>\n",
       "      <td>0</td>\n",
       "      <td>0</td>\n",
       "      <td>0</td>\n",
       "      <td>-1</td>\n",
       "    </tr>\n",
       "    <tr>\n",
       "      <th>PAY_4</th>\n",
       "      <td>-1</td>\n",
       "      <td>0</td>\n",
       "      <td>0</td>\n",
       "      <td>0</td>\n",
       "      <td>0</td>\n",
       "    </tr>\n",
       "    <tr>\n",
       "      <th>PAY_5</th>\n",
       "      <td>-2</td>\n",
       "      <td>0</td>\n",
       "      <td>0</td>\n",
       "      <td>0</td>\n",
       "      <td>0</td>\n",
       "    </tr>\n",
       "    <tr>\n",
       "      <th>PAY_6</th>\n",
       "      <td>-2</td>\n",
       "      <td>2</td>\n",
       "      <td>0</td>\n",
       "      <td>0</td>\n",
       "      <td>0</td>\n",
       "    </tr>\n",
       "    <tr>\n",
       "      <th>BILL_AMT1</th>\n",
       "      <td>3913</td>\n",
       "      <td>2682</td>\n",
       "      <td>29239</td>\n",
       "      <td>46990</td>\n",
       "      <td>8617</td>\n",
       "    </tr>\n",
       "    <tr>\n",
       "      <th>BILL_AMT2</th>\n",
       "      <td>3102</td>\n",
       "      <td>1725</td>\n",
       "      <td>14027</td>\n",
       "      <td>48233</td>\n",
       "      <td>5670</td>\n",
       "    </tr>\n",
       "    <tr>\n",
       "      <th>BILL_AMT3</th>\n",
       "      <td>689</td>\n",
       "      <td>2682</td>\n",
       "      <td>13559</td>\n",
       "      <td>49291</td>\n",
       "      <td>35835</td>\n",
       "    </tr>\n",
       "    <tr>\n",
       "      <th>BILL_AMT4</th>\n",
       "      <td>0</td>\n",
       "      <td>3272</td>\n",
       "      <td>14331</td>\n",
       "      <td>28314</td>\n",
       "      <td>20940</td>\n",
       "    </tr>\n",
       "    <tr>\n",
       "      <th>BILL_AMT5</th>\n",
       "      <td>0</td>\n",
       "      <td>3455</td>\n",
       "      <td>14948</td>\n",
       "      <td>28959</td>\n",
       "      <td>19146</td>\n",
       "    </tr>\n",
       "    <tr>\n",
       "      <th>BILL_AMT6</th>\n",
       "      <td>0</td>\n",
       "      <td>3261</td>\n",
       "      <td>15549</td>\n",
       "      <td>29547</td>\n",
       "      <td>19131</td>\n",
       "    </tr>\n",
       "    <tr>\n",
       "      <th>PAY_AMT1</th>\n",
       "      <td>0</td>\n",
       "      <td>0</td>\n",
       "      <td>1518</td>\n",
       "      <td>2000</td>\n",
       "      <td>2000</td>\n",
       "    </tr>\n",
       "    <tr>\n",
       "      <th>PAY_AMT2</th>\n",
       "      <td>689</td>\n",
       "      <td>1000</td>\n",
       "      <td>1500</td>\n",
       "      <td>2019</td>\n",
       "      <td>36681</td>\n",
       "    </tr>\n",
       "    <tr>\n",
       "      <th>PAY_AMT3</th>\n",
       "      <td>0</td>\n",
       "      <td>1000</td>\n",
       "      <td>1000</td>\n",
       "      <td>1200</td>\n",
       "      <td>10000</td>\n",
       "    </tr>\n",
       "    <tr>\n",
       "      <th>PAY_AMT4</th>\n",
       "      <td>0</td>\n",
       "      <td>1000</td>\n",
       "      <td>1000</td>\n",
       "      <td>1100</td>\n",
       "      <td>9000</td>\n",
       "    </tr>\n",
       "    <tr>\n",
       "      <th>PAY_AMT5</th>\n",
       "      <td>0</td>\n",
       "      <td>0</td>\n",
       "      <td>1000</td>\n",
       "      <td>1069</td>\n",
       "      <td>689</td>\n",
       "    </tr>\n",
       "    <tr>\n",
       "      <th>PAY_AMT6</th>\n",
       "      <td>0</td>\n",
       "      <td>2000</td>\n",
       "      <td>5000</td>\n",
       "      <td>1000</td>\n",
       "      <td>679</td>\n",
       "    </tr>\n",
       "  </tbody>\n",
       "</table>\n",
       "</div>"
      ],
      "text/plain": [
       "               1       2      3      4      5\n",
       "ID                                           \n",
       "LIMIT_BAL  20000  120000  90000  50000  50000\n",
       "SEX            2       2      2      2      1\n",
       "EDUCATION      2       2      2      2      2\n",
       "MARRIAGE       1       2      2      1      1\n",
       "AGE           24      26     34     37     57\n",
       "PAY_0          2      -1      0      0     -1\n",
       "PAY_2          2       2      0      0      0\n",
       "PAY_3         -1       0      0      0     -1\n",
       "PAY_4         -1       0      0      0      0\n",
       "PAY_5         -2       0      0      0      0\n",
       "PAY_6         -2       2      0      0      0\n",
       "BILL_AMT1   3913    2682  29239  46990   8617\n",
       "BILL_AMT2   3102    1725  14027  48233   5670\n",
       "BILL_AMT3    689    2682  13559  49291  35835\n",
       "BILL_AMT4      0    3272  14331  28314  20940\n",
       "BILL_AMT5      0    3455  14948  28959  19146\n",
       "BILL_AMT6      0    3261  15549  29547  19131\n",
       "PAY_AMT1       0       0   1518   2000   2000\n",
       "PAY_AMT2     689    1000   1500   2019  36681\n",
       "PAY_AMT3       0    1000   1000   1200  10000\n",
       "PAY_AMT4       0    1000   1000   1100   9000\n",
       "PAY_AMT5       0       0   1000   1069    689\n",
       "PAY_AMT6       0    2000   5000   1000    679"
      ]
     },
     "execution_count": 2,
     "metadata": {},
     "output_type": "execute_result"
    }
   ],
   "source": [
    "def read_data(path):\n",
    "    df = pd.read_excel(path, header=0)\n",
    "\n",
    "    df.columns = df.iloc[0,:]\n",
    "\n",
    "    df.rename(index=str, columns={\"default payment next month\": \"Y\"}, inplace=True)\n",
    "\n",
    "    y = df.Y\n",
    "\n",
    "    df.drop('ID', inplace=True, axis = 0)\n",
    "    y.drop('ID', inplace=True, axis = 0)\n",
    "    df.drop(columns = 'Y', inplace = True)\n",
    "\n",
    "    return df,  y\n",
    "\n",
    "df, y= read_data('../default_of_credit_card_clients.xls')\n",
    "df.head().T"
   ]
  },
  {
   "cell_type": "code",
   "execution_count": 3,
   "metadata": {},
   "outputs": [
    {
     "data": {
      "text/plain": [
       "1    1\n",
       "2    1\n",
       "3    0\n",
       "4    0\n",
       "5    0\n",
       "Name: Y, dtype: object"
      ]
     },
     "execution_count": 3,
     "metadata": {},
     "output_type": "execute_result"
    }
   ],
   "source": [
    "y.head()"
   ]
  },
  {
   "cell_type": "code",
   "execution_count": 4,
   "metadata": {},
   "outputs": [
    {
     "name": "stdout",
     "output_type": "stream",
     "text": [
      "<class 'pandas.core.frame.DataFrame'>\n",
      "Index: 30000 entries, 1 to 30000\n",
      "Data columns (total 23 columns):\n",
      "LIMIT_BAL    30000 non-null object\n",
      "SEX          30000 non-null object\n",
      "EDUCATION    30000 non-null object\n",
      "MARRIAGE     30000 non-null object\n",
      "AGE          30000 non-null object\n",
      "PAY_0        30000 non-null object\n",
      "PAY_2        30000 non-null object\n",
      "PAY_3        30000 non-null object\n",
      "PAY_4        30000 non-null object\n",
      "PAY_5        30000 non-null object\n",
      "PAY_6        30000 non-null object\n",
      "BILL_AMT1    30000 non-null object\n",
      "BILL_AMT2    30000 non-null object\n",
      "BILL_AMT3    30000 non-null object\n",
      "BILL_AMT4    30000 non-null object\n",
      "BILL_AMT5    30000 non-null object\n",
      "BILL_AMT6    30000 non-null object\n",
      "PAY_AMT1     30000 non-null object\n",
      "PAY_AMT2     30000 non-null object\n",
      "PAY_AMT3     30000 non-null object\n",
      "PAY_AMT4     30000 non-null object\n",
      "PAY_AMT5     30000 non-null object\n",
      "PAY_AMT6     30000 non-null object\n",
      "dtypes: object(23)\n",
      "memory usage: 5.5+ MB\n"
     ]
    }
   ],
   "source": [
    "df.info()"
   ]
  },
  {
   "cell_type": "markdown",
   "metadata": {},
   "source": [
    "Since every column is an object, we'll have to convert them to a numeric type. We'll use the data dictionary from UCI Machine Learning Repository website as a preliminary data dictionary to guide us.\n",
    "\n",
    "From the UCI Machine Learning Repository website:\n",
    "\n",
    "This research employed a binary variable, default payment (Yes = 1, No = 0), as the response variable. This study reviewed the literature and used the following 23 variables as explanatory variables: \n",
    "- X1 (LIMIT_BIL): Amount of the given credit (NT dollar): it includes both the individual consumer credit and his/her family (supplementary) credit. \n",
    "- X2 (SEX): (1 = male; 2 = female). \n",
    "- X3 (EDUCATION): (1 = graduate school; 2 = university; 3 = high school; 4 = others). \n",
    "- X4 (MARITAL STATUS): (1 = married; 2 = single; 3 = others). \n",
    "- X5 (AGE): (year). \n",
    "- X6 - X11 (PAY_0 : PAY_6): History of past payment. We tracked the past monthly payment records (from April to September, 2005) as follows: X6 = the repayment status in September, 2005; X7 = the repayment status in August, 2005; . . .;X11 = the repayment status in April, 2005. The measurement scale for the repayment status is: -1 = pay duly; 1 = payment delay for one month; 2 = payment delay for two months; . . .; 8 = payment delay for eight months; 9 = payment delay for nine months and above. \n",
    "- X12-X17 (BILL_AMT1 : BILL_AMT6): Amount of bill statement (NT dollar). X12 = amount of bill statement in September, 2005; X13 = amount of bill statement in August, 2005; . . .; X17 = amount of bill statement in April, 2005. \n",
    "- X18-X23 (PAY_AMT1 : PAY_AMT6): Amount of previous payment (NT dollar). X18 = amount paid in September, 2005; X19 = amount paid in August, 2005; . . .;X23 = amount paid in April, 2005.\n",
    "- Y: Made a default payment (Yes = 1, No = 0)"
   ]
  },
  {
   "cell_type": "markdown",
   "metadata": {},
   "source": [
    "All of these columns should be columns should be numeric, so let's convert it all to numeric"
   ]
  },
  {
   "cell_type": "code",
   "execution_count": 5,
   "metadata": {},
   "outputs": [],
   "source": [
    "df = df.astype('float32')"
   ]
  },
  {
   "cell_type": "code",
   "execution_count": 6,
   "metadata": {},
   "outputs": [
    {
     "name": "stdout",
     "output_type": "stream",
     "text": [
      "<class 'pandas.core.frame.DataFrame'>\n",
      "Index: 30000 entries, 1 to 30000\n",
      "Data columns (total 23 columns):\n",
      "LIMIT_BAL    30000 non-null float32\n",
      "SEX          30000 non-null float32\n",
      "EDUCATION    30000 non-null float32\n",
      "MARRIAGE     30000 non-null float32\n",
      "AGE          30000 non-null float32\n",
      "PAY_0        30000 non-null float32\n",
      "PAY_2        30000 non-null float32\n",
      "PAY_3        30000 non-null float32\n",
      "PAY_4        30000 non-null float32\n",
      "PAY_5        30000 non-null float32\n",
      "PAY_6        30000 non-null float32\n",
      "BILL_AMT1    30000 non-null float32\n",
      "BILL_AMT2    30000 non-null float32\n",
      "BILL_AMT3    30000 non-null float32\n",
      "BILL_AMT4    30000 non-null float32\n",
      "BILL_AMT5    30000 non-null float32\n",
      "BILL_AMT6    30000 non-null float32\n",
      "PAY_AMT1     30000 non-null float32\n",
      "PAY_AMT2     30000 non-null float32\n",
      "PAY_AMT3     30000 non-null float32\n",
      "PAY_AMT4     30000 non-null float32\n",
      "PAY_AMT5     30000 non-null float32\n",
      "PAY_AMT6     30000 non-null float32\n",
      "dtypes: float32(23)\n",
      "memory usage: 2.9+ MB\n"
     ]
    }
   ],
   "source": [
    "df.info()"
   ]
  },
  {
   "cell_type": "markdown",
   "metadata": {},
   "source": [
    "## Let's look at the target variable."
   ]
  },
  {
   "cell_type": "code",
   "execution_count": 7,
   "metadata": {},
   "outputs": [
    {
     "data": {
      "text/plain": [
       "<matplotlib.axes._subplots.AxesSubplot at 0x7f803e93b518>"
      ]
     },
     "execution_count": 7,
     "metadata": {},
     "output_type": "execute_result"
    },
    {
     "data": {
      "image/png": "[encoded data removed]",
      "text/plain": [
       "<Figure size 432x288 with 1 Axes>"
      ]
     },
     "metadata": {},
     "output_type": "display_data"
    }
   ],
   "source": [
    "y.value_counts().plot(kind='bar')"
   ]
  },
  {
   "cell_type": "markdown",
   "metadata": {},
   "source": [
    "There is some inbalance here, so we need to note to do some sort of imbalance handling later in the pipeline.\n",
    "\n",
    "## Univariate EDA\n",
    "Now let's look at some univariate plots to get a sense of what our features look like. Looking at the values that some of the features take, we'll look at the features in the following order:\n",
    "\n",
    "- LIMIT_BAL\n",
    "- SEX, EDUCATION, MARRIAGE\n",
    "- AGE\n",
    "- PAY_0 : PAY_6\n",
    "- BILL_AMT1 : BILL_AMT6\n",
    "- PAY_AMT1 : PAY_AMT6"
   ]
  },
  {
   "cell_type": "code",
   "execution_count": 8,
   "metadata": {},
   "outputs": [
    {
     "data": {
      "text/plain": [
       "Index(['LIMIT_BAL', 'SEX', 'EDUCATION', 'MARRIAGE', 'AGE', 'PAY_0', 'PAY_2',\n",
       "       'PAY_3', 'PAY_4', 'PAY_5', 'PAY_6', 'BILL_AMT1', 'BILL_AMT2',\n",
       "       'BILL_AMT3', 'BILL_AMT4', 'BILL_AMT5', 'BILL_AMT6', 'PAY_AMT1',\n",
       "       'PAY_AMT2', 'PAY_AMT3', 'PAY_AMT4', 'PAY_AMT5', 'PAY_AMT6'],\n",
       "      dtype='object', name='ID')"
      ]
     },
     "execution_count": 8,
     "metadata": {},
     "output_type": "execute_result"
    }
   ],
   "source": [
    "df.columns"
   ]
  },
  {
   "cell_type": "code",
   "execution_count": 9,
   "metadata": {},
   "outputs": [
    {
     "data": {
      "text/plain": [
       "<matplotlib.axes._subplots.AxesSubplot at 0x7f803fbf8278>"
      ]
     },
     "execution_count": 9,
     "metadata": {},
     "output_type": "execute_result"
    },
    {
     "data": {
      "image/png": "[encoded data removed]",
      "text/plain": [
       "<Figure size 432x288 with 1 Axes>"
      ]
     },
     "metadata": {},
     "output_type": "display_data"
    }
   ],
   "source": [
    "#LIMIT_BAL:\n",
    "\n",
    "df['LIMIT_BAL'].plot(kind='box')"
   ]
  },
  {
   "cell_type": "markdown",
   "metadata": {},
   "source": [
    "Notes: right-tailed distribution, has some outliers present. Some transormation may be necessary.\n",
    "\n",
    "Next, look at the next three variables: SEX, EDUCATION, AND MARRIAGE"
   ]
  },
  {
   "cell_type": "code",
   "execution_count": 10,
   "metadata": {},
   "outputs": [
    {
     "data": {
      "image/png": "[encoded data removed]",
      "text/plain": [
       "<Figure size 720x576 with 3 Axes>"
      ]
     },
     "metadata": {},
     "output_type": "display_data"
    }
   ],
   "source": [
    "custom_df = df.loc[:, ['SEX', 'EDUCATION', 'MARRIAGE']]\n",
    "fig = plt.figure(figsize=(10,8))\n",
    "\n",
    "plt.subplot(3,1,1)\n",
    "ax1 = custom_df['SEX'].value_counts().plot(kind='bar')\n",
    "ax1.set_title('SEX')\n",
    "\n",
    "plt.subplot(3,1,2)\n",
    "ax2 = custom_df['EDUCATION'].value_counts().plot(kind='bar')\n",
    "ax2.set_title('EDUCATION')\n",
    "\n",
    "plt.subplot(3,1,3)\n",
    "ax3 = custom_df['MARRIAGE'].value_counts().plot(kind='bar')\n",
    "ax3.set_title('MARRIAGE')\n",
    "\n",
    "plt.tight_layout()\n",
    "                   \n",
    "    "
   ]
  },
  {
   "cell_type": "markdown",
   "metadata": {},
   "source": [
    "Some notes: more females than males in females in the dataset, many more people who went to college than who did not, about an even amount of people who are married vs unmarried. Not much important things to notice here either. \n",
    "\n",
    "Next, look at age."
   ]
  },
  {
   "cell_type": "code",
   "execution_count": 11,
   "metadata": {},
   "outputs": [
    {
     "data": {
      "image/png": "[encoded data removed]",
      "text/plain": [
       "<Figure size 720x576 with 2 Axes>"
      ]
     },
     "metadata": {},
     "output_type": "display_data"
    }
   ],
   "source": [
    "\n",
    "fig = plt.figure(figsize=(10,8))\n",
    "\n",
    "plt.subplot(1,2,1)\n",
    "ax1 = df['AGE'].plot(kind='density')\n",
    "ax1.set_title('AGE')\n",
    "\n",
    "plt.subplot(1,2,2)\n",
    "ax2 = df['AGE'].plot(kind='box')\n",
    "ax2.set_title('AGE')\n",
    "\n",
    "plt.tight_layout()\n"
   ]
  },
  {
   "cell_type": "markdown",
   "metadata": {},
   "source": [
    "Some notes: Approaching a gaussian distribution. Just has some older customers that creates a slight right tailed shape. Light massaging needed here.\n",
    "\n",
    "Next, look at PAY_0 : PAY_6"
   ]
  },
  {
   "cell_type": "code",
   "execution_count": 12,
   "metadata": {},
   "outputs": [
    {
     "data": {
      "text/plain": [
       "<Figure size 720x576 with 0 Axes>"
      ]
     },
     "metadata": {},
     "output_type": "display_data"
    },
    {
     "data": {
      "image/png": "[encoded data removed]",
      "text/plain": [
       "<Figure size 432x288 with 6 Axes>"
      ]
     },
     "metadata": {},
     "output_type": "display_data"
    }
   ],
   "source": [
    "fig = plt.figure(figsize = (10,8))\n",
    "def payment_history_plot(columns, layout, design):\n",
    "\n",
    "    df_pay_hist = df.loc[:, columns]\n",
    "\n",
    "    #fig, ax = plt.subplots(figsize = (10,8), sharex=True)\n",
    "\n",
    "    \n",
    "    #for i in range(len(columns)):\n",
    "        #plt.subplot(3,2,i)\n",
    "    ax = df_pay_hist.plot(kind = design, subplots = True, layout = layout, sharex=True)\n",
    "    plt.tight_layout()\n",
    "    plt.show()\n",
    "    \n",
    "payment_history_plot(columns = ['PAY_0', 'PAY_2', 'PAY_3', 'PAY_4', 'PAY_5', 'PAY_6'], layout = (3,2), design = 'hist')\n",
    "        \n"
   ]
  },
  {
   "cell_type": "code",
   "execution_count": 13,
   "metadata": {},
   "outputs": [
    {
     "data": {
      "image/png": "[encoded data removed]",
      "text/plain": [
       "<Figure size 720x576 with 6 Axes>"
      ]
     },
     "metadata": {},
     "output_type": "display_data"
    }
   ],
   "source": [
    "#create group\n",
    "df_pay_hist = df.iloc[:,5:11]\n",
    "\n",
    "fig, ax = plt.subplots(figsize = (10,8), sharex=True)\n",
    "\n",
    "\n",
    "plt.subplot(3,2,1)\n",
    "ax1 = df['PAY_0'].value_counts().plot(kind='bar')\n",
    "ax1.set_title('PAY_0')\n",
    "\n",
    "plt.subplot(3,2,2)\n",
    "ax2 = df['PAY_2'].value_counts().plot(kind='bar')\n",
    "ax2.set_title('PAY_2')\n",
    "\n",
    "\n",
    "plt.subplot(3,2,3)\n",
    "ax3 = df['PAY_3'].value_counts().plot(kind='bar')\n",
    "ax3.set_title('PAY_3')\n",
    "\n",
    "\n",
    "plt.subplot(3,2,4)\n",
    "ax4 = df['PAY_4'].value_counts().plot(kind='bar')\n",
    "ax4.set_title('PAY_4')\n",
    "\n",
    "\n",
    "plt.subplot(3,2,5)\n",
    "ax5 = df['PAY_5'].value_counts().plot(kind='bar')\n",
    "ax5.set_title('PAY_5')\n",
    "\n",
    "\n",
    "plt.subplot(3,2,6)\n",
    "ax6 = df['PAY_6'].value_counts().plot(kind='bar')\n",
    "ax6.set_title('PAY_6')\n",
    "\n",
    "plt.tight_layout()\n",
    "\n",
    "\n"
   ]
  },
  {
   "cell_type": "markdown",
   "metadata": {},
   "source": [
    "Some notes: all the plots are pretty much the same. Values of 0 are the most common by a large amount, i.e. another instance of some class inbalance. Might have to bin some of the values together to a bigger value; e.g.  \"more than 2 months\" class. \n",
    "\n",
    "Next, look at the Bill amounts."
   ]
  },
  {
   "cell_type": "code",
   "execution_count": 14,
   "metadata": {},
   "outputs": [
    {
     "data": {
      "image/png": "[encoded data removed]",
      "text/plain": [
       "<Figure size 792x576 with 6 Axes>"
      ]
     },
     "metadata": {},
     "output_type": "display_data"
    }
   ],
   "source": [
    "#create bill_amnts group\n",
    "fig = plt.figure(figsize = (11,8))\n",
    "bill_amts = df.iloc[:, 11:17]\n",
    "\n",
    "\n",
    "plt.subplot(3,2,1)\n",
    "ax1 = bill_amts['BILL_AMT1'].hist(bins=25)\n",
    "ax1.set_title('BILL_AMNT1')\n",
    "\n",
    "plt.subplot(3,2,2)\n",
    "ax2 = bill_amts['BILL_AMT2'].hist(bins=25)\n",
    "ax2.set_title('BILL_AMT2')\n",
    "\n",
    "plt.subplot(3,2,3)\n",
    "ax3 = bill_amts['BILL_AMT3'].hist(bins=25)\n",
    "ax3.set_title('BILL_AMT3')\n",
    "\n",
    "plt.subplot(3,2,4)\n",
    "ax4 = bill_amts['BILL_AMT4'].hist(bins=25)\n",
    "ax4.set_title('BILL_AMT4')\n",
    "\n",
    "plt.subplot(3,2,5)\n",
    "ax5 = bill_amts['BILL_AMT5'].hist(bins=25)\n",
    "ax5.set_title('BILL_AMT5')\n",
    "\n",
    "plt.subplot(3,2,6)\n",
    "ax6 = bill_amts['BILL_AMT6'].hist(bins=25)\n",
    "ax6.set_title('BILL_AMT6')\n",
    "\n",
    "plt.tight_layout()\n",
    "\n",
    "\n",
    "\n"
   ]
  },
  {
   "cell_type": "code",
   "execution_count": 15,
   "metadata": {},
   "outputs": [
    {
     "data": {
      "text/plain": [
       "Text(0.5, 1.0, 'BILL_AMT')"
      ]
     },
     "execution_count": 15,
     "metadata": {},
     "output_type": "execute_result"
    },
    {
     "data": {
      "text/plain": [
       "<Figure size 720x576 with 0 Axes>"
      ]
     },
     "metadata": {},
     "output_type": "display_data"
    },
    {
     "data": {
      "image/png": "[encoded data removed]",
      "text/plain": [
       "<Figure size 432x288 with 1 Axes>"
      ]
     },
     "metadata": {},
     "output_type": "display_data"
    }
   ],
   "source": [
    "fig = plt.figure(figsize = (10,8))\n",
    "ax1 = bill_amts.plot(kind='box')\n",
    "ax1.set_title('BILL_AMT')"
   ]
  },
  {
   "cell_type": "markdown",
   "metadata": {},
   "source": [
    "Some notes: most distributions are right tailed, lending itself to a transformation. Strong outliers"
   ]
  },
  {
   "cell_type": "code",
   "execution_count": 26,
   "metadata": {},
   "outputs": [
    {
     "data": {
      "text/plain": [
       "<matplotlib.axes._subplots.AxesSubplot at 0x7f353a3e1240>"
      ]
     },
     "execution_count": 26,
     "metadata": {},
     "output_type": "execute_result"
    },
    {
     "data": {
      "image/png": "[encoded data removed]",
      "text/plain": [
       "<Figure size 720x576 with 6 Axes>"
      ]
     },
     "metadata": {},
     "output_type": "display_data"
    }
   ],
   "source": [
    "#create pay_amts group\n",
    "ax, fig = plt.subplots(figsize = (10,8))\n",
    "pay_amts = df.iloc[:, 17:]\n",
    "\n",
    "plt.subplot(3,2,1)\n",
    "pay_amts['PAY_AMT1'].hist(bins=25)\n",
    "\n",
    "plt.subplot(3,2,2)\n",
    "pay_amts['PAY_AMT2'].hist(bins=25)\n",
    "\n",
    "plt.subplot(3,2,3)\n",
    "pay_amts['PAY_AMT3'].hist(bins=25)\n",
    "\n",
    "plt.subplot(3,2,4)\n",
    "pay_amts['PAY_AMT4'].hist(bins=25)\n",
    "\n",
    "plt.subplot(3,2,5)\n",
    "pay_amts['PAY_AMT5'].hist(bins=25)\n",
    "\n",
    "plt.subplot(3,2,6)\n",
    "pay_amts['PAY_AMT6'].hist(bins=25)\n",
    "\n",
    "\n"
   ]
  },
  {
   "cell_type": "code",
   "execution_count": 43,
   "metadata": {},
   "outputs": [
    {
     "data": {
      "text/plain": [
       "30000    873552.0\n",
       "29999    505000.0\n",
       "29998    493358.0\n",
       "29997    423903.0\n",
       "29996    405016.0\n",
       "29995    368199.0\n",
       "29994    323014.0\n",
       "29993    304815.0\n",
       "29992    302000.0\n",
       "29991    300039.0\n",
       "29990    300000.0\n",
       "29989    298887.0\n",
       "29988    276698.0\n",
       "29987    273844.0\n",
       "29986    272817.0\n",
       "29985    261524.0\n",
       "29984    260416.0\n",
       "29983    260000.0\n",
       "29982    250000.0\n",
       "29981    247562.0\n",
       "29980    244500.0\n",
       "29979    242247.0\n",
       "29978    240101.0\n",
       "29977    239104.0\n",
       "29976    238861.0\n",
       "29975    237000.0\n",
       "29974    236533.0\n",
       "29973    235728.0\n",
       "29972    234000.0\n",
       "29971    232557.0\n",
       "           ...   \n",
       "3517          0.0\n",
       "3518          0.0\n",
       "3519          0.0\n",
       "3520          0.0\n",
       "3521          0.0\n",
       "3522          0.0\n",
       "3523          0.0\n",
       "3524          0.0\n",
       "3525          0.0\n",
       "3508          0.0\n",
       "3507          0.0\n",
       "3506          0.0\n",
       "3496          0.0\n",
       "3489          0.0\n",
       "3490          0.0\n",
       "3491          0.0\n",
       "3492          0.0\n",
       "3493          0.0\n",
       "3494          0.0\n",
       "3495          0.0\n",
       "3497          0.0\n",
       "3505          0.0\n",
       "3498          0.0\n",
       "3499          0.0\n",
       "3500          0.0\n",
       "3501          0.0\n",
       "3502          0.0\n",
       "3503          0.0\n",
       "3504          0.0\n",
       "1             0.0\n",
       "Name: PAY_AMT1, Length: 30000, dtype: float32"
      ]
     },
     "execution_count": 43,
     "metadata": {},
     "output_type": "execute_result"
    }
   ],
   "source": [
    "pay_amts['PAY_AMT1'].sort_values(ascending=False)"
   ]
  },
  {
   "cell_type": "code",
   "execution_count": null,
   "metadata": {},
   "outputs": [],
   "source": []
  }
 ],
 "metadata": {
  "kernelspec": {
   "display_name": "Python 3",
   "language": "python",
   "name": "python3"
  },
  "language_info": {
   "codemirror_mode": {
    "name": "ipython",
    "version": 3
   },
   "file_extension": ".py",
   "mimetype": "text/x-python",
   "name": "python",
   "nbconvert_exporter": "python",
   "pygments_lexer": "ipython3",
   "version": "3.6.5"
  }
 },
 "nbformat": 4,
 "nbformat_minor": 2
}
