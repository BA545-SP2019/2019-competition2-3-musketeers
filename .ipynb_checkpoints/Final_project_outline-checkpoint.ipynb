{
 "cells": [
  {
   "cell_type": "markdown",
   "metadata": {},
   "source": [
    "# Final project outline\n",
    "\n",
    "3 parts: \n",
    "\n",
    "1.) question/problem understanding, then show naive crappy modeling results for baseline\n",
    "\n",
    "- components: \n",
    "- Define what we have, the data given to us\n",
    "- What are we trying to achieve\n",
    "- What were our results based on no engineering and basic model\n",
    "\n",
    "2.) data preprocessing (how we got to final good dataset) and modeling results\n",
    "\n",
    "- components: \n",
    "- Audit Report modeling results: this acts as our baseline\n",
    "- Explain how we tried different datasets with different processes: Martin's data and attempts, Stuart's data and attempts, Kevin's data and attempts(not neccesarly show each, just mention that we did this.) (the modeling checkpoint stage)\n",
    "- Ultimately, Kevin's was best results: show the pipeline of how he got model 'xgboost3'. Show the test results (Kevin has to format this notebook to make official)\n",
    "\n",
    "3.) model interpretation (kevin), showing what the model was thinking, looking at how features affect the output\n",
    "\n",
    "- components:\n",
    "- Discrepency between sklearn 'feature importance' and more correct way to show it (ELI5).\n",
    "- Partial Dependency plots\n",
    "- Shap\n",
    "- Feature Elimination and see if results get better with less features\n",
    "\n"
   ]
  },
  {
   "cell_type": "markdown",
   "metadata": {},
   "source": [
    "# Part 1"
   ]
  },
  {
   "cell_type": "code",
   "execution_count": null,
   "metadata": {},
   "outputs": [],
   "source": [
    "\n"
   ]
  },
  {
   "cell_type": "code",
   "execution_count": null,
   "metadata": {},
   "outputs": [],
   "source": []
  },
  {
   "cell_type": "code",
   "execution_count": null,
   "metadata": {},
   "outputs": [],
   "source": []
  },
  {
   "cell_type": "markdown",
   "metadata": {},
   "source": [
    "# Part 2"
   ]
  },
  {
   "cell_type": "code",
   "execution_count": null,
   "metadata": {},
   "outputs": [],
   "source": []
  },
  {
   "cell_type": "code",
   "execution_count": null,
   "metadata": {},
   "outputs": [],
   "source": []
  },
  {
   "cell_type": "code",
   "execution_count": null,
   "metadata": {},
   "outputs": [],
   "source": []
  },
  {
   "cell_type": "markdown",
   "metadata": {},
   "source": [
    "# Part 3"
   ]
  },
  {
   "cell_type": "code",
   "execution_count": null,
   "metadata": {},
   "outputs": [],
   "source": []
  }
 ],
 "metadata": {
  "kernelspec": {
   "display_name": "Python 3",
   "language": "python",
   "name": "python3"
  },
  "language_info": {
   "codemirror_mode": {
    "name": "ipython",
    "version": 3
   },
   "file_extension": ".py",
   "mimetype": "text/x-python",
   "name": "python",
   "nbconvert_exporter": "python",
   "pygments_lexer": "ipython3",
   "version": "3.6.5"
  }
 },
 "nbformat": 4,
 "nbformat_minor": 2
}
