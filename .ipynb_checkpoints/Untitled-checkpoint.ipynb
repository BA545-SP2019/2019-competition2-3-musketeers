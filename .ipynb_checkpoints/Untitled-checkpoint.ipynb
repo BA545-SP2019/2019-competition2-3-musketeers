{
 "cells": [
  {
   "cell_type": "markdown",
   "metadata": {},
   "source": [
    "# Initial Modeling Results\n",
    "\n",
    "### This notebook outlines each of our initial modeling processes and results. \n",
    "\n",
    "We will reference cells in other notebooks and show some final results."
   ]
  },
  {
   "cell_type": "markdown",
   "metadata": {},
   "source": [
    "## Kevin\n",
    "\n",
    "Kevin decided to experiment with xgboost models. Much of the code is found in the [Copy_of_XGBoost_tuning_checkpoint.ipynb]() notebook. The process is as follows:\n",
    "\n",
    "1.) Used the `final_trimmed_seqeuntial_data` \n",
    "\n",
    "2.) Set up the training and testing data\n",
    "\n",
    "3.) Created a function that uses a predefined model with predefined hyperparamters and uses xgb.cv function to tune the n_estimators to an appropriate value. This will print out an accuracy, auc score, and f1 score on the training data.\n",
    "\n",
    "4.) "
   ]
  },
  {
   "cell_type": "code",
   "execution_count": null,
   "metadata": {},
   "outputs": [],
   "source": []
  }
 ],
 "metadata": {
  "kernelspec": {
   "display_name": "Python 3",
   "language": "python",
   "name": "python3"
  },
  "language_info": {
   "codemirror_mode": {
    "name": "ipython",
    "version": 3
   },
   "file_extension": ".py",
   "mimetype": "text/x-python",
   "name": "python",
   "nbconvert_exporter": "python",
   "pygments_lexer": "ipython3",
   "version": "3.6.5"
  }
 },
 "nbformat": 4,
 "nbformat_minor": 2
}
