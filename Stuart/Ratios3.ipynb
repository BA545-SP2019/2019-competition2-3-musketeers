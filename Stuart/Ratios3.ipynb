{
 "cells": [
  {
   "cell_type": "code",
   "execution_count": 30,
   "metadata": {},
   "outputs": [],
   "source": [
    "# Dependencies\n",
    "\n",
    "import pandas as pd\n",
    "import numpy as np\n",
    "from sklearn.cluster import KMeans\n",
    "from sklearn.preprocessing import LabelEncoder\n",
    "from sklearn.preprocessing import MinMaxScaler\n",
    "import seaborn as sns\n",
    "import matplotlib.pyplot as plt\n",
    "import matplotlib\n",
    "plt.style.use('ggplot')\n",
    "%matplotlib inline\n",
    "from Modules import *\n",
    "\n",
    "# Load libraries\n",
    "\n",
    "from sklearn.tree import DecisionTreeClassifier # Import Decision Tree Classifier\n",
    "from sklearn.model_selection import train_test_split # Import train_test_split function\n",
    "from sklearn import metrics #Import scikit-learn metrics module for accuracy calculation"
   ]
  },
  {
   "cell_type": "code",
   "execution_count": 2,
   "metadata": {},
   "outputs": [],
   "source": [
    "df = pd.read_excel('../default_of_credit_card_clients.xls', header=0)\n",
    "\n",
    "df.columns = df.iloc[0,:]\n",
    "\n",
    "df = df.rename(index=str, columns={\"default payment next month\": \"Y\"})\n",
    "\n",
    "df = df.drop('ID',  axis=0)\n"
   ]
  },
  {
   "cell_type": "code",
   "execution_count": 3,
   "metadata": {},
   "outputs": [
    {
     "name": "stdout",
     "output_type": "stream",
     "text": [
      "<class 'pandas.core.frame.DataFrame'>\n",
      "Index: 30000 entries, 1 to 30000\n",
      "Data columns (total 24 columns):\n",
      "LIMIT_BAL    30000 non-null object\n",
      "SEX          30000 non-null object\n",
      "EDUCATION    30000 non-null object\n",
      "MARRIAGE     30000 non-null object\n",
      "AGE          30000 non-null object\n",
      "PAY_0        30000 non-null object\n",
      "PAY_2        30000 non-null object\n",
      "PAY_3        30000 non-null object\n",
      "PAY_4        30000 non-null object\n",
      "PAY_5        30000 non-null object\n",
      "PAY_6        30000 non-null object\n",
      "BILL_AMT1    30000 non-null object\n",
      "BILL_AMT2    30000 non-null object\n",
      "BILL_AMT3    30000 non-null object\n",
      "BILL_AMT4    30000 non-null object\n",
      "BILL_AMT5    30000 non-null object\n",
      "BILL_AMT6    30000 non-null object\n",
      "PAY_AMT1     30000 non-null object\n",
      "PAY_AMT2     30000 non-null object\n",
      "PAY_AMT3     30000 non-null object\n",
      "PAY_AMT4     30000 non-null object\n",
      "PAY_AMT5     30000 non-null object\n",
      "PAY_AMT6     30000 non-null object\n",
      "Y            30000 non-null object\n",
      "dtypes: object(24)\n",
      "memory usage: 5.7+ MB\n"
     ]
    }
   ],
   "source": [
    "df.info()"
   ]
  },
  {
   "cell_type": "code",
   "execution_count": 4,
   "metadata": {},
   "outputs": [
    {
     "name": "stdout",
     "output_type": "stream",
     "text": [
      "<class 'pandas.core.frame.DataFrame'>\n",
      "Index: 30000 entries, 1 to 30000\n",
      "Data columns (total 24 columns):\n",
      "LIMIT_BAL    30000 non-null float32\n",
      "SEX          30000 non-null float32\n",
      "EDUCATION    30000 non-null float32\n",
      "MARRIAGE     30000 non-null float32\n",
      "AGE          30000 non-null float32\n",
      "PAY_0        30000 non-null float32\n",
      "PAY_2        30000 non-null float32\n",
      "PAY_3        30000 non-null float32\n",
      "PAY_4        30000 non-null float32\n",
      "PAY_5        30000 non-null float32\n",
      "PAY_6        30000 non-null float32\n",
      "BILL_AMT1    30000 non-null float32\n",
      "BILL_AMT2    30000 non-null float32\n",
      "BILL_AMT3    30000 non-null float32\n",
      "BILL_AMT4    30000 non-null float32\n",
      "BILL_AMT5    30000 non-null float32\n",
      "BILL_AMT6    30000 non-null float32\n",
      "PAY_AMT1     30000 non-null float32\n",
      "PAY_AMT2     30000 non-null float32\n",
      "PAY_AMT3     30000 non-null float32\n",
      "PAY_AMT4     30000 non-null float32\n",
      "PAY_AMT5     30000 non-null float32\n",
      "PAY_AMT6     30000 non-null float32\n",
      "Y            30000 non-null float32\n",
      "dtypes: float32(24)\n",
      "memory usage: 3.0+ MB\n"
     ]
    }
   ],
   "source": [
    "# convert variables from objects into float\n",
    "df = df.astype('float32')\n",
    "\n",
    "df.info()"
   ]
  },
  {
   "cell_type": "code",
   "execution_count": 5,
   "metadata": {},
   "outputs": [
    {
     "data": {
      "text/plain": [
       "Index(['LIMIT_BAL', 'SEX', 'EDUCATION', 'MARRIAGE', 'AGE', 'PAY_0', 'PAY_2',\n",
       "       'PAY_3', 'PAY_4', 'PAY_5', 'PAY_6', 'BILL_AMT1', 'BILL_AMT2',\n",
       "       'BILL_AMT3', 'BILL_AMT4', 'BILL_AMT5', 'BILL_AMT6', 'PAY_AMT1',\n",
       "       'PAY_AMT2', 'PAY_AMT3', 'PAY_AMT4', 'PAY_AMT5', 'PAY_AMT6', 'Y'],\n",
       "      dtype='object', name='ID')"
      ]
     },
     "execution_count": 5,
     "metadata": {},
     "output_type": "execute_result"
    }
   ],
   "source": [
    "df.columns"
   ]
  },
  {
   "cell_type": "code",
   "execution_count": 6,
   "metadata": {},
   "outputs": [],
   "source": [
    "# create AVG_BILL_AMT\n",
    "\n",
    "df[\"AVG_BILL_AMT\"] = ((df.BILL_AMT1 + df.BILL_AMT2 + df.BILL_AMT3 + df.BILL_AMT4 + df.BILL_AMT5 + df.BILL_AMT6)/6)\n"
   ]
  },
  {
   "cell_type": "code",
   "execution_count": 7,
   "metadata": {},
   "outputs": [],
   "source": [
    "# created new column OUTSTANDING_BAL for each month\n",
    "\n",
    "df[\"OUTSTANDING_BAL1\"] = (df.BILL_AMT1 - df.PAY_AMT1)\n",
    "df[\"OUTSTANDING_BAL2\"] = (df.BILL_AMT2 - df.PAY_AMT2)\n",
    "df[\"OUTSTANDING_BAL3\"] = (df.BILL_AMT3 - df.PAY_AMT3)\n",
    "df[\"OUTSTANDING_BAL4\"] = (df.BILL_AMT4 - df.PAY_AMT4)\n",
    "df[\"OUTSTANDING_BAL5\"] = (df.BILL_AMT5 - df.PAY_AMT5)\n",
    "df[\"OUTSTANDING_BAL6\"] = (df.BILL_AMT6 - df.PAY_AMT6)\n",
    "\n",
    "df[\"AVG_OUT_BAL\"] = ((df.OUTSTANDING_BAL1 + df.OUTSTANDING_BAL2 + df.OUTSTANDING_BAL3 + df.OUTSTANDING_BAL4 + df.OUTSTANDING_BAL5 + df.OUTSTANDING_BAL6)/6)\n"
   ]
  },
  {
   "cell_type": "code",
   "execution_count": 8,
   "metadata": {},
   "outputs": [
    {
     "name": "stdout",
     "output_type": "stream",
     "text": [
      "True     16869\n",
      "False    13131\n",
      "Name: BAL_INC, dtype: int64\n",
      "count     30000\n",
      "unique        2\n",
      "top        True\n",
      "freq      16869\n",
      "Name: BAL_INC, dtype: object\n"
     ]
    }
   ],
   "source": [
    "# created new column BAL_INC to flag balances that increased by the final reporting period\n",
    "df[\"BAL_INC\"] = ((df.OUTSTANDING_BAL1 - df.AVG_OUT_BAL) >0)\n",
    "\n",
    "print(df.BAL_INC.value_counts())\n",
    "\n",
    "print(df.BAL_INC.describe())\n",
    "\n"
   ]
  },
  {
   "cell_type": "code",
   "execution_count": 9,
   "metadata": {},
   "outputs": [],
   "source": [
    "# created new column %_LIMIT_BAL for each month\n",
    "\n",
    "df[\"PER_LIMIT_BAL1\"] = (df.OUTSTANDING_BAL1 / df.LIMIT_BAL)\n",
    "df[\"PER_LIMIT_BAL2\"] = (df.OUTSTANDING_BAL2 / df.LIMIT_BAL)\n",
    "df[\"PER_LIMIT_BAL3\"] = (df.OUTSTANDING_BAL3 / df.LIMIT_BAL)\n",
    "df[\"PER_LIMIT_BAL4\"] = (df.OUTSTANDING_BAL4 / df.LIMIT_BAL)\n",
    "df[\"PER_LIMIT_BAL5\"] = (df.OUTSTANDING_BAL5 / df.LIMIT_BAL)\n",
    "df[\"PER_LIMIT_BAL6\"] = (df.OUTSTANDING_BAL6 / df.LIMIT_BAL)\n",
    "\n",
    "df[\"AVG_PER_LIM_Bal\"] = ((df.PER_LIMIT_BAL1 + df.PER_LIMIT_BAL2 + df.PER_LIMIT_BAL3 + df.PER_LIMIT_BAL4 + df.PER_LIMIT_BAL5 + df.PER_LIMIT_BAL6)/6)\n"
   ]
  },
  {
   "cell_type": "code",
   "execution_count": 10,
   "metadata": {},
   "outputs": [
    {
     "name": "stdout",
     "output_type": "stream",
     "text": [
      "from_10k-50k    11263\n",
      "up_to $10k      10432\n",
      "above_50k        8305\n",
      "Name: bin_AVG_BILL_AMT, dtype: int64\n"
     ]
    }
   ],
   "source": [
    "## Bin the AVG_BILL_AMT column and replace with 3 bined ranges: \"up_to $10k\", \"from_10k-50k\", \"above_50k\"\n",
    "\n",
    "labels = [\"up_to $10k\", \"from_10k-50k\", \"above_50k\"]\n",
    "bins = [-165579, 10000, 50000, 2500000]\n",
    "df['bin_AVG_BILL_AMT'] = pd.cut(df['AVG_BILL_AMT'], bins, labels = labels)\n",
    "print(df['bin_AVG_BILL_AMT'].value_counts())\n",
    "df = df.join(pd.get_dummies(df['bin_AVG_BILL_AMT'], prefix = 'AVG_BILL_AMT'))\n"
   ]
  },
  {
   "cell_type": "code",
   "execution_count": 11,
   "metadata": {},
   "outputs": [
    {
     "data": {
      "text/plain": [
       "<matplotlib.axes._subplots.AxesSubplot at 0x7fd02bf7acf8>"
      ]
     },
     "execution_count": 11,
     "metadata": {},
     "output_type": "execute_result"
    },
    {
     "data": {
      "image/png": "[encoded data removed]",
      "text/plain": [
       "<Figure size 432x288 with 1 Axes>"
      ]
     },
     "metadata": {},
     "output_type": "display_data"
    }
   ],
   "source": [
    "# Bar chart of the bins used for AVG_BILL_AMT\n",
    "\n",
    "df['bin_AVG_BILL_AMT'].value_counts().plot(kind = \"bar\")"
   ]
  },
  {
   "cell_type": "code",
   "execution_count": 12,
   "metadata": {},
   "outputs": [
    {
     "name": "stdout",
     "output_type": "stream",
     "text": [
      "1     114.833336\n",
      "2     833.333313\n",
      "3    1836.333374\n",
      "4    1398.000000\n",
      "5    9841.500000\n",
      "Name: AVG_PAY_AMT, dtype: float32\n"
     ]
    }
   ],
   "source": [
    "# Create AVG_PAY_AMT\n",
    "\n",
    "df['AVG_PAY_AMT'] = ((df.PAY_AMT1 + df.PAY_AMT2 + df.PAY_AMT3 + df.PAY_AMT4 + df.PAY_AMT5 + df.PAY_AMT6)/6)\n",
    "\n",
    "\n",
    "print((df['AVG_PAY_AMT']).head())"
   ]
  },
  {
   "cell_type": "code",
   "execution_count": 13,
   "metadata": {},
   "outputs": [
    {
     "name": "stdout",
     "output_type": "stream",
     "text": [
      "above_$4,000         10432\n",
      "up_to $1,500         10389\n",
      "from_$1,500-4,000     9179\n",
      "Name: bin_AVG_PAY_AMT, dtype: int64\n"
     ]
    }
   ],
   "source": [
    "## Bin the AVG_PAY_AMT column and replace with Logical variables\n",
    "\n",
    "labels = [\"up_to $1,500\", \"from_$1,500-4,000\", \"above_$4,000\"]\n",
    "bins = [-165579, 1500, 4000, 2500000]\n",
    "df['bin_AVG_PAY_AMT'] = pd.cut(df['AVG_PAY_AMT'], bins, labels = labels)\n",
    "print(df['bin_AVG_PAY_AMT'].value_counts())\n",
    "df = df.join(pd.get_dummies(df['bin_AVG_PAY_AMT'], prefix = 'AVG_PAY_AMT'))\n"
   ]
  },
  {
   "cell_type": "code",
   "execution_count": 14,
   "metadata": {},
   "outputs": [
    {
     "data": {
      "text/plain": [
       "<matplotlib.axes._subplots.AxesSubplot at 0x7fd02bf11208>"
      ]
     },
     "execution_count": 14,
     "metadata": {},
     "output_type": "execute_result"
    },
    {
     "data": {
      "image/png": "[encoded data removed]",
      "text/plain": [
       "<Figure size 432x288 with 1 Axes>"
      ]
     },
     "metadata": {},
     "output_type": "display_data"
    }
   ],
   "source": [
    "# Bar chart of the bins used for AVG_PAY_AMT\n",
    "\n",
    "df['bin_AVG_PAY_AMT'].value_counts().plot(kind = \"bar\")"
   ]
  },
  {
   "cell_type": "code",
   "execution_count": 15,
   "metadata": {},
   "outputs": [
    {
     "name": "stdout",
     "output_type": "stream",
     "text": [
      "<_80,000       10799\n",
      ">_200,000       9622\n",
      "<=_200,0000     9579\n",
      "Name: binned, dtype: int64\n"
     ]
    }
   ],
   "source": [
    "## Bin the LIMIT BAL column and replace with Logical variables\n",
    "\n",
    "labels = [\"<_80,000\", \"<=_200,0000\", \">_200,000\"]\n",
    "bins = [0, 80000, 200000, 30000000]\n",
    "df['binned'] = pd.cut(df['LIMIT_BAL'], bins, labels = labels)\n",
    "print(df['binned'].value_counts())\n",
    "df = df.join(pd.get_dummies(df['binned'], prefix = 'Limit Bal'))"
   ]
  },
  {
   "cell_type": "code",
   "execution_count": 16,
   "metadata": {},
   "outputs": [
    {
     "name": "stdout",
     "output_type": "stream",
     "text": [
      "2.0    14030\n",
      "1.0    10585\n",
      "3.0     4917\n",
      "4.0      468\n",
      "Name: EDUCATION, dtype: int64\n"
     ]
    },
    {
     "data": {
      "image/png": "[encoded data removed]",
      "text/plain": [
       "<Figure size 432x288 with 1 Axes>"
      ]
     },
     "metadata": {},
     "output_type": "display_data"
    }
   ],
   "source": [
    "# Education values with scores of 5.0, 6.0 and 0.0 were replaces to the other category of 4.0\n",
    "# Net result: 1 = Graduate School, 2 = University, 3 = High School, 4 = other\n",
    "\n",
    "df.EDUCATION = df.EDUCATION.replace([5.0,6.0,0.0],4.0)\n",
    "df.EDUCATION.value_counts().plot(kind = \"bar\")\n",
    "print(df.EDUCATION.value_counts())"
   ]
  },
  {
   "cell_type": "code",
   "execution_count": 17,
   "metadata": {},
   "outputs": [
    {
     "name": "stdout",
     "output_type": "stream",
     "text": [
      "2.0    15964\n",
      "1.0    13659\n",
      "3.0      377\n",
      "Name: MARRIAGE, dtype: int64\n"
     ]
    },
    {
     "data": {
      "image/png": "[encoded data removed]",
      "text/plain": [
       "<Figure size 432x288 with 1 Axes>"
      ]
     },
     "metadata": {},
     "output_type": "display_data"
    }
   ],
   "source": [
    "# Replace MARRIAGE values of 0 with 3\n",
    "\n",
    "df.MARRIAGE = df.MARRIAGE.replace([0.0],3.0)\n",
    "df.MARRIAGE.value_counts().plot(kind = \"bar\")\n",
    "print(df.MARRIAGE.value_counts())"
   ]
  },
  {
   "cell_type": "code",
   "execution_count": 18,
   "metadata": {},
   "outputs": [],
   "source": [
    "#create logical variable: \n",
    "#if the outstanding balance for period t-1 is less than period t: 0\n",
    "#if the outstanding balance for perriod t-1 is more than period t: 1\n",
    "\n",
    "lst1 = ['OUTSTANDING_BAL1','OUTSTANDING_BAL2', 'OUTSTANDING_BAL3', 'OUTSTANDING_BAL4','OUTSTANDING_BAL5']\n",
    "lst2 = ['OUTSTANDING_BAL2','OUTSTANDING_BAL3', 'OUTSTANDING_BAL4', 'OUTSTANDING_BAL5','OUTSTANDING_BAL6',]\n",
    "for idx, (column1, column2) in enumerate(zip(lst1, lst2)):\n",
    "    idx += 1\n",
    "    df[f\"OUSTANDING_BAL_{idx}_INDICATOR\"] = np.where(df[column1] > df[column2], 1, 0)\n",
    "\n",
    "\n",
    "#possible idea: do a ratio of how much your outstanding balance grew from t-1 to t ((new-old)/old)"
   ]
  },
  {
   "cell_type": "code",
   "execution_count": 19,
   "metadata": {},
   "outputs": [],
   "source": [
    "#created new column %_LIMIT_BAL for each month\n",
    "#oustanding balance of period t divided by LIMIT_BAL \n",
    "#how close is a client reaching that LIMIT_BAL limit?\n",
    "\n",
    "df[\"PERCENT_OF_LIMIT_BAL1\"] = (df.OUTSTANDING_BAL1 / df.LIMIT_BAL)\n",
    "df[\"PERCENT_OF_LIMIT_BAL2\"] = (df.OUTSTANDING_BAL2 / df.LIMIT_BAL)\n",
    "df[\"PERCENT_OF_LIMIT_BAL3\"] = (df.OUTSTANDING_BAL3 / df.LIMIT_BAL)\n",
    "df[\"PERCENT_OF_LIMIT_BAL4\"] = (df.OUTSTANDING_BAL4 / df.LIMIT_BAL)\n",
    "df[\"PERCENT_OF_LIMIT_BAL5\"] = (df.OUTSTANDING_BAL5 / df.LIMIT_BAL)\n",
    "df[\"PERCENT_OF_LIMIT_BAL6\"] = (df.OUTSTANDING_BAL6 / df.LIMIT_BAL)"
   ]
  },
  {
   "cell_type": "code",
   "execution_count": 20,
   "metadata": {},
   "outputs": [],
   "source": [
    "#if the outstanding balance for period t-1 is less than period t: 0\n",
    "#if the outstanding balance for perriod t-1 is more than period t: 1\n",
    "\n",
    "lst1 = ['PERCENT_OF_LIMIT_BAL1', 'PERCENT_OF_LIMIT_BAL2', 'PERCENT_OF_LIMIT_BAL3', 'PERCENT_OF_LIMIT_BAL4', 'PERCENT_OF_LIMIT_BAL5']\n",
    "lst2 = ['PERCENT_OF_LIMIT_BAL2', 'PERCENT_OF_LIMIT_BAL3', 'PERCENT_OF_LIMIT_BAL4', 'PERCENT_OF_LIMIT_BAL5', 'PERCENT_OF_LIMIT_BAL6']\n",
    "for idx, (column1, column2) in enumerate(zip(lst1, lst2)):\n",
    "    idx += 1\n",
    "    df[f\"PERCENT_OF_LIMIT_BAL_{idx}_INDICATOR\"] = np.where(df[column1] > df[column2], 1, 0)\n",
    "\n"
   ]
  },
  {
   "cell_type": "code",
   "execution_count": 21,
   "metadata": {},
   "outputs": [],
   "source": [
    "#describe the percentage of the bill that clients are paying\n",
    "#have to set if a bill amt is 0, will be the same as the previous time periods value\n",
    "#therefore, have to initialize the the time period, t = 6 values first \n",
    "\n",
    "lst1 = ['BILL_AMT1', 'BILL_AMT2', 'BILL_AMT3', 'BILL_AMT4','BILL_AMT5', 'BILL_AMT6']\n",
    "lst2 = ['PAY_AMT1', 'PAY_AMT2', 'PAY_AMT3','PAY_AMT4', 'PAY_AMT5', 'PAY_AMT6']\n",
    "for idx, (col1, col2) in enumerate(zip(lst1, lst2)):\n",
    "    idx +=1\n",
    "    df[f\"PAY_RATIO_{idx}\"] = np.where(df[col1] != 0, df[col2]/df[col1], 1)"
   ]
  },
  {
   "cell_type": "code",
   "execution_count": 22,
   "metadata": {},
   "outputs": [],
   "source": [
    "#create the indicator\n",
    "#if the ratio is increasing across the months we will give them a 1, 0 if is the same or decreasing.\n",
    "\n",
    "df.loc[df[\"PAY_RATIO_1\"] < df[\"PAY_RATIO_2\"], 'PAY_RATIO_1_INDICATOR'] = (1*(5/5)) \n",
    "df.loc[df[\"PAY_RATIO_1\"] >= df[\"PAY_RATIO_2\"], 'PAY_RATIO_1_INDICATOR'] = 0 \n",
    "\n",
    "df.loc[df[\"PAY_RATIO_2\"] < df[\"PAY_RATIO_3\"], 'PAY_RATIO_2_INDICATOR'] = (1*(4/5))\n",
    "df.loc[df[\"PAY_RATIO_2\"] >= df[\"PAY_RATIO_3\"], 'PAY_RATIO_2_INDICATOR'] = 0\n",
    "\n",
    "df.loc[df[\"PAY_RATIO_3\"] < df[\"PAY_RATIO_4\"], 'PAY_RATIO_3_INDICATOR'] = (1*(3/5))\n",
    "df.loc[df[\"PAY_RATIO_3\"] >= df[\"PAY_RATIO_4\"], 'PAY_RATIO_3_INDICATOR'] = 0 \n",
    "\n",
    "df.loc[df[\"PAY_RATIO_4\"] < df[\"PAY_RATIO_5\"], 'PAY_RATIO_4_INDICATOR'] = (1*(2/5)) \n",
    "df.loc[df[\"PAY_RATIO_4\"] >= df[\"PAY_RATIO_5\"], 'PAY_RATIO_4_INDICATOR'] = 0\n",
    "\n",
    "df.loc[df[\"PAY_RATIO_5\"] < df[\"PAY_RATIO_6\"], 'PAY_RATIO_5_INDICATOR'] = (1*(1/5)) \n",
    "df.loc[df[\"PAY_RATIO_5\"] >= df[\"PAY_RATIO_6\"], 'PAY_RATIO_5_INDICATOR'] = 0"
   ]
  },
  {
   "cell_type": "code",
   "execution_count": 23,
   "metadata": {},
   "outputs": [
    {
     "data": {
      "text/plain": [
       "Index(['LIMIT_BAL', 'SEX', 'EDUCATION', 'MARRIAGE', 'AGE', 'PAY_0', 'PAY_2',\n",
       "       'PAY_3', 'PAY_4', 'PAY_5', 'PAY_6', 'BILL_AMT1', 'BILL_AMT2',\n",
       "       'BILL_AMT3', 'BILL_AMT4', 'BILL_AMT5', 'BILL_AMT6', 'PAY_AMT1',\n",
       "       'PAY_AMT2', 'PAY_AMT3', 'PAY_AMT4', 'PAY_AMT5', 'PAY_AMT6', 'Y',\n",
       "       'AVG_BILL_AMT', 'OUTSTANDING_BAL1', 'OUTSTANDING_BAL2',\n",
       "       'OUTSTANDING_BAL3', 'OUTSTANDING_BAL4', 'OUTSTANDING_BAL5',\n",
       "       'OUTSTANDING_BAL6', 'AVG_OUT_BAL', 'BAL_INC', 'PER_LIMIT_BAL1',\n",
       "       'PER_LIMIT_BAL2', 'PER_LIMIT_BAL3', 'PER_LIMIT_BAL4', 'PER_LIMIT_BAL5',\n",
       "       'PER_LIMIT_BAL6', 'AVG_PER_LIM_Bal', 'bin_AVG_BILL_AMT',\n",
       "       'AVG_BILL_AMT_up_to $10k', 'AVG_BILL_AMT_from_10k-50k',\n",
       "       'AVG_BILL_AMT_above_50k', 'AVG_PAY_AMT', 'bin_AVG_PAY_AMT',\n",
       "       'AVG_PAY_AMT_up_to $1,500', 'AVG_PAY_AMT_from_$1,500-4,000',\n",
       "       'AVG_PAY_AMT_above_$4,000', 'binned', 'Limit Bal_<_80,000',\n",
       "       'Limit Bal_<=_200,0000', 'Limit Bal_>_200,000',\n",
       "       'OUSTANDING_BAL_1_INDICATOR', 'OUSTANDING_BAL_2_INDICATOR',\n",
       "       'OUSTANDING_BAL_3_INDICATOR', 'OUSTANDING_BAL_4_INDICATOR',\n",
       "       'OUSTANDING_BAL_5_INDICATOR', 'PERCENT_OF_LIMIT_BAL1',\n",
       "       'PERCENT_OF_LIMIT_BAL2', 'PERCENT_OF_LIMIT_BAL3',\n",
       "       'PERCENT_OF_LIMIT_BAL4', 'PERCENT_OF_LIMIT_BAL5',\n",
       "       'PERCENT_OF_LIMIT_BAL6', 'PERCENT_OF_LIMIT_BAL_1_INDICATOR',\n",
       "       'PERCENT_OF_LIMIT_BAL_2_INDICATOR', 'PERCENT_OF_LIMIT_BAL_3_INDICATOR',\n",
       "       'PERCENT_OF_LIMIT_BAL_4_INDICATOR', 'PERCENT_OF_LIMIT_BAL_5_INDICATOR',\n",
       "       'PAY_RATIO_1', 'PAY_RATIO_2', 'PAY_RATIO_3', 'PAY_RATIO_4',\n",
       "       'PAY_RATIO_5', 'PAY_RATIO_6', 'PAY_RATIO_1_INDICATOR',\n",
       "       'PAY_RATIO_2_INDICATOR', 'PAY_RATIO_3_INDICATOR',\n",
       "       'PAY_RATIO_4_INDICATOR', 'PAY_RATIO_5_INDICATOR'],\n",
       "      dtype='object')"
      ]
     },
     "execution_count": 23,
     "metadata": {},
     "output_type": "execute_result"
    }
   ],
   "source": [
    "df.columns"
   ]
  },
  {
   "cell_type": "code",
   "execution_count": 33,
   "metadata": {},
   "outputs": [
    {
     "ename": "ValueError",
     "evalue": "could not convert string to float: '<=_200,0000'",
     "output_type": "error",
     "traceback": [
      "\u001b[0;31m---------------------------------------------------------------------------\u001b[0m",
      "\u001b[0;31mValueError\u001b[0m                                Traceback (most recent call last)",
      "\u001b[0;32m<ipython-input-33-d7bf4f80dea7>\u001b[0m in \u001b[0;36m<module>\u001b[0;34m()\u001b[0m\n\u001b[1;32m      9\u001b[0m        'PAY_RATIO_4_INDICATOR', 'PAY_RATIO_5_INDICATOR'])\n\u001b[1;32m     10\u001b[0m \u001b[0;34m\u001b[0m\u001b[0m\n\u001b[0;32m---> 11\u001b[0;31m \u001b[0mevaluate_baseline\u001b[0m\u001b[0;34m(\u001b[0m\u001b[0mdf_no\u001b[0m\u001b[0;34m)\u001b[0m\u001b[0;34m\u001b[0m\u001b[0m\n\u001b[0m",
      "\u001b[0;32m~/BA545-data/2019-competition2-3-musketeers/Stuart/Modules.py\u001b[0m in \u001b[0;36mevaluate_baseline\u001b[0;34m(df, NB)\u001b[0m\n\u001b[1;32m    107\u001b[0m         \u001b[0mclf\u001b[0m \u001b[0;34m=\u001b[0m \u001b[0mLogisticRegression\u001b[0m\u001b[0;34m(\u001b[0m\u001b[0;34m)\u001b[0m\u001b[0;34m\u001b[0m\u001b[0m\n\u001b[1;32m    108\u001b[0m \u001b[0;34m\u001b[0m\u001b[0m\n\u001b[0;32m--> 109\u001b[0;31m     \u001b[0mclf\u001b[0m\u001b[0;34m.\u001b[0m\u001b[0mfit\u001b[0m\u001b[0;34m(\u001b[0m\u001b[0mX_train\u001b[0m\u001b[0;34m,\u001b[0m \u001b[0my_train\u001b[0m\u001b[0;34m)\u001b[0m\u001b[0;34m\u001b[0m\u001b[0m\n\u001b[0m\u001b[1;32m    110\u001b[0m \u001b[0;34m\u001b[0m\u001b[0m\n\u001b[1;32m    111\u001b[0m     \u001b[0my_pred\u001b[0m \u001b[0;34m=\u001b[0m \u001b[0mclf\u001b[0m\u001b[0;34m.\u001b[0m\u001b[0mpredict\u001b[0m\u001b[0;34m(\u001b[0m\u001b[0mX_test\u001b[0m\u001b[0;34m)\u001b[0m\u001b[0;34m\u001b[0m\u001b[0m\n",
      "\u001b[0;32m/opt/tljh/user/lib/python3.6/site-packages/sklearn/naive_bayes.py\u001b[0m in \u001b[0;36mfit\u001b[0;34m(self, X, y, sample_weight)\u001b[0m\n\u001b[1;32m    181\u001b[0m             \u001b[0mReturns\u001b[0m \u001b[0mself\u001b[0m\u001b[0;34m.\u001b[0m\u001b[0;34m\u001b[0m\u001b[0m\n\u001b[1;32m    182\u001b[0m         \"\"\"\n\u001b[0;32m--> 183\u001b[0;31m         \u001b[0mX\u001b[0m\u001b[0;34m,\u001b[0m \u001b[0my\u001b[0m \u001b[0;34m=\u001b[0m \u001b[0mcheck_X_y\u001b[0m\u001b[0;34m(\u001b[0m\u001b[0mX\u001b[0m\u001b[0;34m,\u001b[0m \u001b[0my\u001b[0m\u001b[0;34m)\u001b[0m\u001b[0;34m\u001b[0m\u001b[0m\n\u001b[0m\u001b[1;32m    184\u001b[0m         return self._partial_fit(X, y, np.unique(y), _refit=True,\n\u001b[1;32m    185\u001b[0m                                  sample_weight=sample_weight)\n",
      "\u001b[0;32m/opt/tljh/user/lib/python3.6/site-packages/sklearn/utils/validation.py\u001b[0m in \u001b[0;36mcheck_X_y\u001b[0;34m(X, y, accept_sparse, dtype, order, copy, force_all_finite, ensure_2d, allow_nd, multi_output, ensure_min_samples, ensure_min_features, y_numeric, warn_on_dtype, estimator)\u001b[0m\n\u001b[1;32m    571\u001b[0m     X = check_array(X, accept_sparse, dtype, order, copy, force_all_finite,\n\u001b[1;32m    572\u001b[0m                     \u001b[0mensure_2d\u001b[0m\u001b[0;34m,\u001b[0m \u001b[0mallow_nd\u001b[0m\u001b[0;34m,\u001b[0m \u001b[0mensure_min_samples\u001b[0m\u001b[0;34m,\u001b[0m\u001b[0;34m\u001b[0m\u001b[0m\n\u001b[0;32m--> 573\u001b[0;31m                     ensure_min_features, warn_on_dtype, estimator)\n\u001b[0m\u001b[1;32m    574\u001b[0m     \u001b[0;32mif\u001b[0m \u001b[0mmulti_output\u001b[0m\u001b[0;34m:\u001b[0m\u001b[0;34m\u001b[0m\u001b[0m\n\u001b[1;32m    575\u001b[0m         y = check_array(y, 'csr', force_all_finite=True, ensure_2d=False,\n",
      "\u001b[0;32m/opt/tljh/user/lib/python3.6/site-packages/sklearn/utils/validation.py\u001b[0m in \u001b[0;36mcheck_array\u001b[0;34m(array, accept_sparse, dtype, order, copy, force_all_finite, ensure_2d, allow_nd, ensure_min_samples, ensure_min_features, warn_on_dtype, estimator)\u001b[0m\n\u001b[1;32m    446\u001b[0m         \u001b[0;31m# make sure we actually converted to numeric:\u001b[0m\u001b[0;34m\u001b[0m\u001b[0;34m\u001b[0m\u001b[0m\n\u001b[1;32m    447\u001b[0m         \u001b[0;32mif\u001b[0m \u001b[0mdtype_numeric\u001b[0m \u001b[0;32mand\u001b[0m \u001b[0marray\u001b[0m\u001b[0;34m.\u001b[0m\u001b[0mdtype\u001b[0m\u001b[0;34m.\u001b[0m\u001b[0mkind\u001b[0m \u001b[0;34m==\u001b[0m \u001b[0;34m\"O\"\u001b[0m\u001b[0;34m:\u001b[0m\u001b[0;34m\u001b[0m\u001b[0m\n\u001b[0;32m--> 448\u001b[0;31m             \u001b[0marray\u001b[0m \u001b[0;34m=\u001b[0m \u001b[0marray\u001b[0m\u001b[0;34m.\u001b[0m\u001b[0mastype\u001b[0m\u001b[0;34m(\u001b[0m\u001b[0mnp\u001b[0m\u001b[0;34m.\u001b[0m\u001b[0mfloat64\u001b[0m\u001b[0;34m)\u001b[0m\u001b[0;34m\u001b[0m\u001b[0m\n\u001b[0m\u001b[1;32m    449\u001b[0m         \u001b[0;32mif\u001b[0m \u001b[0;32mnot\u001b[0m \u001b[0mallow_nd\u001b[0m \u001b[0;32mand\u001b[0m \u001b[0marray\u001b[0m\u001b[0;34m.\u001b[0m\u001b[0mndim\u001b[0m \u001b[0;34m>=\u001b[0m \u001b[0;36m3\u001b[0m\u001b[0;34m:\u001b[0m\u001b[0;34m\u001b[0m\u001b[0m\n\u001b[1;32m    450\u001b[0m             raise ValueError(\"Found array with dim %d. %s expected <= 2.\"\n",
      "\u001b[0;31mValueError\u001b[0m: could not convert string to float: '<=_200,0000'"
     ]
    }
   ],
   "source": [
    "#drop the features that are used in calculating other features\n",
    "\n",
    "df_no = df.drop(columns = ['PAY_2', 'PAY_3', 'PAY_4', 'PAY_5', 'PAY_6', 'BILL_AMT2',\n",
    "       'BILL_AMT3', 'BILL_AMT4', 'BILL_AMT5', 'BILL_AMT6', 'PAY_AMT2', 'PAY_AMT3', 'PAY_AMT4', 'PAY_AMT5', 'PAY_AMT6', 'PAY_AMT5', 'PAY_AMT6',\n",
    "       'AVG_BILL_AMT', 'OUTSTANDING_BAL1', 'OUTSTANDING_BAL2','OUTSTANDING_BAL3', 'OUTSTANDING_BAL4', 'OUTSTANDING_BAL5','OUTSTANDING_BAL6', 'PER_LIMIT_BAL2', 'PER_LIMIT_BAL3', 'PER_LIMIT_BAL4', 'PER_LIMIT_BAL5',\n",
    "       'PER_LIMIT_BAL6', 'OUSTANDING_BAL_2_INDICATOR', 'OUSTANDING_BAL_3_INDICATOR', 'OUSTANDING_BAL_4_INDICATOR', 'OUSTANDING_BAL_5_INDICATOR', 'PERCENT_OF_LIMIT_BAL2', 'PERCENT_OF_LIMIT_BAL3',\n",
    "       'PERCENT_OF_LIMIT_BAL4', 'PERCENT_OF_LIMIT_BAL5','PERCENT_OF_LIMIT_BAL6', 'PERCENT_OF_LIMIT_BAL_2_INDICATOR', 'PERCENT_OF_LIMIT_BAL_3_INDICATOR',\n",
    "       'PERCENT_OF_LIMIT_BAL_4_INDICATOR', 'PERCENT_OF_LIMIT_BAL_5_INDICATOR', 'PAY_RATIO_2', 'PAY_RATIO_3', 'PAY_RATIO_4','PAY_RATIO_5', 'PAY_RATIO_6', 'PAY_RATIO_2_INDICATOR', 'PAY_RATIO_3_INDICATOR',\n",
    "       'PAY_RATIO_4_INDICATOR', 'PAY_RATIO_5_INDICATOR'])\n",
    "\n",
    "evaluate_baseline(df_no)"
   ]
  },
  {
   "cell_type": "code",
   "execution_count": 27,
   "metadata": {},
   "outputs": [
    {
     "data": {
      "text/plain": [
       "Index(['LIMIT_BAL', 'SEX', 'EDUCATION', 'MARRIAGE', 'AGE', 'PAY_0',\n",
       "       'BILL_AMT1', 'PAY_AMT1', 'AVG_OUT_BAL', 'BAL_INC', 'PER_LIMIT_BAL1',\n",
       "       'AVG_PER_LIM_Bal', 'bin_AVG_BILL_AMT', 'AVG_BILL_AMT_up_to $10k',\n",
       "       'AVG_BILL_AMT_from_10k-50k', 'AVG_BILL_AMT_above_50k', 'AVG_PAY_AMT',\n",
       "       'bin_AVG_PAY_AMT', 'AVG_PAY_AMT_up_to $1,500',\n",
       "       'AVG_PAY_AMT_from_$1,500-4,000', 'AVG_PAY_AMT_above_$4,000', 'binned',\n",
       "       'Limit Bal_<_80,000', 'Limit Bal_<=_200,0000', 'Limit Bal_>_200,000',\n",
       "       'OUSTANDING_BAL_1_INDICATOR', 'PERCENT_OF_LIMIT_BAL1',\n",
       "       'PERCENT_OF_LIMIT_BAL_1_INDICATOR', 'PAY_RATIO_1',\n",
       "       'PAY_RATIO_1_INDICATOR'],\n",
       "      dtype='object')"
      ]
     },
     "execution_count": 27,
     "metadata": {},
     "output_type": "execute_result"
    }
   ],
   "source": [
    "df_no.columns"
   ]
  },
  {
   "cell_type": "code",
   "execution_count": null,
   "metadata": {},
   "outputs": [],
   "source": []
  }
 ],
 "metadata": {
  "kernelspec": {
   "display_name": "Python 3",
   "language": "python",
   "name": "python3"
  },
  "language_info": {
   "codemirror_mode": {
    "name": "ipython",
    "version": 3
   },
   "file_extension": ".py",
   "mimetype": "text/x-python",
   "name": "python",
   "nbconvert_exporter": "python",
   "pygments_lexer": "ipython3",
   "version": "3.6.5"
  }
 },
 "nbformat": 4,
 "nbformat_minor": 2
}
