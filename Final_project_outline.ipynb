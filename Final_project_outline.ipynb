{
 "cells": [
  {
   "cell_type": "markdown",
   "metadata": {},
   "source": [
    "# Final project outline\n",
    "\n",
    "3 parts: \n",
    "\n",
    "1.) question/problem understanding, then show naive crappy modeling results for baseline\n",
    "\n",
    "## Research Question & Goal:\n",
    "What is the liklihood that a credit card client will default and ultimately force the closure of their account?  We were tasked with predictiing the liklihood of this worst case outcome for each Id in the test set.  To do this we must predict the binary value of the default variable.\n",
    "\n",
    "## Business Understanding:\n",
    "Default account closures for credit card client's result in a loss for the bank both from the write-off of the outstanding balance on the customer's statement which is a cost on the issuer's balance sheet and the loss of a customer which negatively impacts the customer's credit rating and their ability to obtain any credit or loans for the next seven years.  Essentially it's a lose-lose scenario.  \n",
    "\n",
    "Too many default account closures also result in a poor rating for the bank (issuer) to the processor (ie. MasterCard, Visa, etc) which ultimately impacts the terms for the bank with the processor on fees and other costs.  It's a major concern for all parties involved.\n",
    "\n",
    "So it's imperative that only truly credit worthy clients (those who will pay back their obligations) are selected as customers or, more importantly, it's crucial to flag potential client's who have a strong liklihood to default prior to an actual default and to mitigate the risk of a default account closure as early as possible.\n",
    "\n",
    "## Components:\n",
    "The dataset that has been gathered for the purposes of this report provided anonimized client information containing 23 continuous or categorical features, and 1 binary target (default or not). \n",
    "\n",
    "    - Credit Limit (LIMIT_BAL)\n",
    "    - Gender (SEX)\n",
    "    - Level of Education (EDUCATION)\n",
    "    - Marital Status (MARRIAGE)\n",
    "    - Age (AGE)\n",
    "    - 6 Scored Repayment Status going back 9 months based on the delays for 6 sequential statement periods (PAY_0, PAY_2, PAY_3, PAY_4, PAY_5, PAY_6)\n",
    "    - Billing Statements for 6 sequential statement periods (BILL_AMT1, BILL_AMT2, BILL_AMT3, BILL_AMT4, BILL_AMT5, BILL_AMT6)\n",
    "    - Statement Amount for 6 sequential statement periods (PAY_AMT1, PAY_AMT2, PAY_AMT3, PAY_AMT4, PAY_AMT5, PAY_AMT6)\n",
    "\n",
    "## Initial evaluation of the data and hypothesis:\n",
    "The Credit Limit seemed likely to be a key feature followed by the Repayment Status scores, Billing Statements, and Statement Amount; but a better understanding of the features that lead to high and low Credit Limits, delayed repayment, increasing billing statements and the statement amount needed to be gained.  Initially, we hoped to gain insights based on the data provided and create an analytic process based on the results with some very basic models, literally a series of charts to visualize the features.  Ultimately, we were seeking a reliable, repeatable method to predict  \n",
    "\n",
    "\n",
    "## Data Understanding\n",
    "Training Set\n",
    "Our data set is divided into two parts, a training set and a testing set. To begin, we examine the training set. The data set contains 81 columns and 1460 rows. Our variables have the following breakdown: 36 are quantitative, 43 categorical and then Id and SalePrice are viewed separately. ID offers no predicitve value and SalePrice is our target variable\n",
    "\n",
    "2.) data preprocessing (how we got to final good dataset) and modeling results\n",
    "\n",
    "- components: \n",
    "- Audit Report modeling results: this acts as our baseline\n",
    "- Explain how we tried different datasets with different processes: Martin's data and attempts, Stuart's data and attempts, Kevin's data and attempts(not neccesarly show each, just mention that we did this.) (the modeling checkpoint stage)\n",
    "- Ultimately, Kevin's was best results: show the pipeline of how he got model 'xgboost3'. Show the test results (Kevin has to format this notebook to make official)\n",
    "\n",
    "3.) model interpretation (kevin), showing what the model was thinking, looking at how features affect the output\n",
    "\n",
    "- components:\n",
    "- Discrepency between sklearn 'feature importance' and more correct way to show it (ELI5).\n",
    "- Partial Dependency plots\n",
    "- Shap\n",
    "- Feature Elimination and see if results get better with less features\n",
    "\n"
   ]
  },
  {
   "cell_type": "markdown",
   "metadata": {},
   "source": [
    "# Part 1"
   ]
  },
  {
   "cell_type": "code",
   "execution_count": null,
   "metadata": {},
   "outputs": [],
   "source": [
    "\n"
   ]
  },
  {
   "cell_type": "code",
   "execution_count": null,
   "metadata": {},
   "outputs": [],
   "source": []
  },
  {
   "cell_type": "code",
   "execution_count": null,
   "metadata": {},
   "outputs": [],
   "source": []
  },
  {
   "cell_type": "markdown",
   "metadata": {},
   "source": [
    "# Part 2"
   ]
  },
  {
   "cell_type": "code",
   "execution_count": null,
   "metadata": {},
   "outputs": [],
   "source": []
  },
  {
   "cell_type": "code",
   "execution_count": null,
   "metadata": {},
   "outputs": [],
   "source": []
  },
  {
   "cell_type": "code",
   "execution_count": null,
   "metadata": {},
   "outputs": [],
   "source": []
  },
  {
   "cell_type": "markdown",
   "metadata": {},
   "source": [
    "# Part 3"
   ]
  },
  {
   "cell_type": "code",
   "execution_count": null,
   "metadata": {},
   "outputs": [],
   "source": []
  }
 ],
 "metadata": {
  "kernelspec": {
   "display_name": "Python 3",
   "language": "python",
   "name": "python3"
  },
  "language_info": {
   "codemirror_mode": {
    "name": "ipython",
    "version": 3
   },
   "file_extension": ".py",
   "mimetype": "text/x-python",
   "name": "python",
   "nbconvert_exporter": "python",
   "pygments_lexer": "ipython3",
   "version": "3.6.5"
  }
 },
 "nbformat": 4,
 "nbformat_minor": 2
}
