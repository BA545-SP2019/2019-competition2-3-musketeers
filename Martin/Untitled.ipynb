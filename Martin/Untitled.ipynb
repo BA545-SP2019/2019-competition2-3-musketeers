{
 "cells": [
  {
   "cell_type": "markdown",
   "metadata": {},
   "source": [
    "2.) data preprocessing (how we got to final good dataset) and modeling results\n",
    "\n",
    "- components: \n",
    "- Audit Report modeling results: this acts as our baseline\n",
    "- Explain how we tried different datasets with different processes: Martin's data and attempts, Stuart's data and attempts, Kevin's data and attempts(not neccesarly show each, just mention that we did this.) (the modeling checkpoint stage)\n",
    "- Ultimately, Kevin's was best results: show the pipeline of how he got model 'xgboost3'. Show the test results (Kevin has to format this notebook to make official)"
   ]
  },
  {
   "cell_type": "markdown",
   "metadata": {},
   "source": [
    "## Data Preparation "
   ]
  },
  {
   "cell_type": "markdown",
   "metadata": {},
   "source": [
    "The first thing we did was to read in the data into a suitable format. This involved reading the Excel file and naming the columns into something more intuitive than the original column names."
   ]
  },
  {
   "cell_type": "markdown",
   "metadata": {},
   "source": [
    "There are no missing data points, so **imputation is not necessary**."
   ]
  },
  {
   "cell_type": "markdown",
   "metadata": {},
   "source": [
    "Next, after noting the discrepencies in the values for the classes for  'EDUCATION', 'SEX', and 'MARRIAGE' features, we dediced to rename and replace many of these values. For instance, the 'EDUCATION' feature had a majority of  \"Graduate School\" and \"University\" class, and a very limited amount of the other classes, so we dicided to keep the 2 former classes and bin the latter classes into a category of \"Other\". A similar process was done for the other two features"
   ]
  },
  {
   "cell_type": "markdown",
   "metadata": {},
   "source": [
    "We also noted, undefined values in some of the features. -2 and \"0\" appear frequently in the \"pay_\" features. We tested a few strategies to see if adjusting this values effected our inital results. We replaced them with the mode, grouped them all to \"0\" and reassigned them all to one the results on our inital basic model were not at all significantly different. Therefore after consideration and consultation as a group we decided to leave the values as they were. We still did not have a good understanding for what they meant and did not want to introduce additional error into our dataset. "
   ]
  },
  {
   "cell_type": "markdown",
   "metadata": {},
   "source": [
    "Individually we worked on different versions of the dataset. Martin took the most basic dataset that was supplied:"
   ]
  },
  {
   "cell_type": "markdown",
   "metadata": {},
   "source": [
    " Stuart and Kevin worked on datasets with new feature engineering that we as a group developed including ratio analysis of payments,limits and trends"
   ]
  },
  {
   "cell_type": "markdown",
   "metadata": {},
   "source": [
    "| Model | F1 (cross-val score) | AUC |\n",
    "| --- | --- | --- |\n",
    "| Logistic Regression  | .409 | .61 |\n",
    "| SVC  | .404 | .61 |\n",
    "| Kneighbours | .344(.266) | .56 |\n",
    "| Random Forest Classifier | .511(.471) | .68 |\n",
    "| Light gbm | .495(.471) | .67 |\n",
    "| Cat boost classifier | .514(.477) | .68 |\n",
    "| Decision tree | .399(.396) | .62 |\n",
    "| GaussianNB | .366(387) | .54 |\n",
    "|   |   |   |\n"
   ]
  },
  {
   "cell_type": "markdown",
   "metadata": {},
   "source": [
    "As part of our audit report submission. We generated a pipeline as a base to compare future strategies against. It consists of some data manipulation and data transformations. We read the excel file and name the columns into something more intuitive than the original names. Fortunately, there are no missing data points, so imputation is not necessary. Replaced some of the values in \"SEX\", \"MARRIAGE\" and \"EDUCATION\"\n"
   ]
  }
 ],
 "metadata": {
  "kernelspec": {
   "display_name": "Python 3",
   "language": "python",
   "name": "python3"
  },
  "language_info": {
   "codemirror_mode": {
    "name": "ipython",
    "version": 3
   },
   "file_extension": ".py",
   "mimetype": "text/x-python",
   "name": "python",
   "nbconvert_exporter": "python",
   "pygments_lexer": "ipython3",
   "version": "3.6.5"
  }
 },
 "nbformat": 4,
 "nbformat_minor": 2
}
